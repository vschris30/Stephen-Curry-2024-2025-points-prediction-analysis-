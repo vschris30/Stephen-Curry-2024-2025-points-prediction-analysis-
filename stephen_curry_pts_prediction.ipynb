{
 "cells": [
  {
   "cell_type": "markdown",
   "id": "070c144e-2458-455e-bb2e-7411c3b1067d",
   "metadata": {},
   "source": [
    "# 🏀 Predicting NBA Player Performance: A Case Study on Stephen Curry\n",
    "\n",
    "This project aims to build a simple machine learning model to predict the number of points scored by NBA star **Stephen Curry** in a game based on key game-level statistics. It is a regression problem using supervised learning.\n",
    "\n",
    "## 🎯 Objective\n",
    "\n",
    "The goal of this project is to predict Stephen Curry's **points scored in a game** using basic features such as field goal attempts, three-point attempts, minutes played, and more. This helps in understanding what factors most influence his scoring and can be extended to other players or match scenarios.\n"
   ]
  },
  {
   "cell_type": "code",
   "execution_count": null,
   "id": "04518b5f-4a5e-411b-a696-79f08c9f665b",
   "metadata": {},
   "outputs": [],
   "source": []
  },
  {
   "cell_type": "code",
   "execution_count": 1,
   "id": "d8219ed3-92dc-41c1-91e4-c7386e7b3bd0",
   "metadata": {},
   "outputs": [],
   "source": [
    "import numpy as np\n",
    "import pandas as pd\n",
    "import matplotlib.pyplot as plt\n",
    "import seaborn as sns\n",
    "import warnings\n",
    "warnings.filterwarnings(\"ignore\")"
   ]
  },
  {
   "cell_type": "code",
   "execution_count": null,
   "id": "9f49560e-6c75-4256-adc6-b96d3a2ee309",
   "metadata": {},
   "outputs": [],
   "source": []
  },
  {
   "cell_type": "markdown",
   "id": "ccbac0eb-0aa0-4260-968d-03a30ad97c94",
   "metadata": {},
   "source": [
    "## 📊 Dataset\n",
    "\n",
    "- **Source**: [Basketball-Reference.com](https://www.basketball-reference.com/players/c/curryst01/gamelog/)\n",
    "- **Season used**: 2024–2025 \n",
    "- **Description**: The dataset includes one row per game, with columns like:\n",
    "  - Date\n",
    "  - Opponent\n",
    "  - Minutes Played (MIN)\n",
    "  - Field Goals Attempted (FGA)\n",
    "  - 3-Point Attempts (3PA)\n",
    "  - Free Throw Attempts (FTA)\n",
    "  - Points Scored (PTS)\n",
    "  - Home/Away Indicator, etc."
   ]
  },
  {
   "cell_type": "code",
   "execution_count": 9,
   "id": "8f8cfc9c-7cc6-45a0-9283-7148bd952c58",
   "metadata": {},
   "outputs": [
    {
     "data": {
      "text/html": [
       "<div>\n",
       "<style scoped>\n",
       "    .dataframe tbody tr th:only-of-type {\n",
       "        vertical-align: middle;\n",
       "    }\n",
       "\n",
       "    .dataframe tbody tr th {\n",
       "        vertical-align: top;\n",
       "    }\n",
       "\n",
       "    .dataframe thead th {\n",
       "        text-align: right;\n",
       "    }\n",
       "</style>\n",
       "<table border=\"1\" class=\"dataframe\">\n",
       "  <thead>\n",
       "    <tr style=\"text-align: right;\">\n",
       "      <th></th>\n",
       "      <th>Rk</th>\n",
       "      <th>Gcar</th>\n",
       "      <th>Gtm</th>\n",
       "      <th>Date</th>\n",
       "      <th>Team</th>\n",
       "      <th>Unnamed: 5</th>\n",
       "      <th>Opp</th>\n",
       "      <th>Result</th>\n",
       "      <th>GS</th>\n",
       "      <th>MP</th>\n",
       "      <th>...</th>\n",
       "      <th>DRB</th>\n",
       "      <th>TRB</th>\n",
       "      <th>AST</th>\n",
       "      <th>STL</th>\n",
       "      <th>BLK</th>\n",
       "      <th>TOV</th>\n",
       "      <th>PF</th>\n",
       "      <th>PTS</th>\n",
       "      <th>GmSc</th>\n",
       "      <th>+/-</th>\n",
       "    </tr>\n",
       "  </thead>\n",
       "  <tbody>\n",
       "    <tr>\n",
       "      <th>0</th>\n",
       "      <td>1</td>\n",
       "      <td>957</td>\n",
       "      <td>1</td>\n",
       "      <td>2024-10-23</td>\n",
       "      <td>GSW</td>\n",
       "      <td>@</td>\n",
       "      <td>POR</td>\n",
       "      <td>W, 140-104</td>\n",
       "      <td>*</td>\n",
       "      <td>25:04</td>\n",
       "      <td>...</td>\n",
       "      <td>9</td>\n",
       "      <td>9</td>\n",
       "      <td>10</td>\n",
       "      <td>2</td>\n",
       "      <td>0</td>\n",
       "      <td>2</td>\n",
       "      <td>0</td>\n",
       "      <td>17</td>\n",
       "      <td>21.3</td>\n",
       "      <td>23</td>\n",
       "    </tr>\n",
       "    <tr>\n",
       "      <th>1</th>\n",
       "      <td>2</td>\n",
       "      <td>958</td>\n",
       "      <td>2</td>\n",
       "      <td>2024-10-25</td>\n",
       "      <td>GSW</td>\n",
       "      <td>@</td>\n",
       "      <td>UTA</td>\n",
       "      <td>W, 127-86</td>\n",
       "      <td>*</td>\n",
       "      <td>27:25</td>\n",
       "      <td>...</td>\n",
       "      <td>3</td>\n",
       "      <td>3</td>\n",
       "      <td>4</td>\n",
       "      <td>2</td>\n",
       "      <td>0</td>\n",
       "      <td>3</td>\n",
       "      <td>3</td>\n",
       "      <td>20</td>\n",
       "      <td>10.3</td>\n",
       "      <td>22</td>\n",
       "    </tr>\n",
       "    <tr>\n",
       "      <th>2</th>\n",
       "      <td>3</td>\n",
       "      <td>959</td>\n",
       "      <td>3</td>\n",
       "      <td>2024-10-27</td>\n",
       "      <td>GSW</td>\n",
       "      <td>NaN</td>\n",
       "      <td>LAC</td>\n",
       "      <td>L, 104-112</td>\n",
       "      <td>*</td>\n",
       "      <td>26:42</td>\n",
       "      <td>...</td>\n",
       "      <td>4</td>\n",
       "      <td>4</td>\n",
       "      <td>6</td>\n",
       "      <td>2</td>\n",
       "      <td>1</td>\n",
       "      <td>6</td>\n",
       "      <td>1</td>\n",
       "      <td>18</td>\n",
       "      <td>14.4</td>\n",
       "      <td>2</td>\n",
       "    </tr>\n",
       "    <tr>\n",
       "      <th>3</th>\n",
       "      <td>4</td>\n",
       "      <td>960</td>\n",
       "      <td>7</td>\n",
       "      <td>2024-11-04</td>\n",
       "      <td>GSW</td>\n",
       "      <td>@</td>\n",
       "      <td>WAS</td>\n",
       "      <td>W, 125-112</td>\n",
       "      <td>*</td>\n",
       "      <td>24:05</td>\n",
       "      <td>...</td>\n",
       "      <td>2</td>\n",
       "      <td>3</td>\n",
       "      <td>6</td>\n",
       "      <td>0</td>\n",
       "      <td>0</td>\n",
       "      <td>2</td>\n",
       "      <td>1</td>\n",
       "      <td>24</td>\n",
       "      <td>19.4</td>\n",
       "      <td>9</td>\n",
       "    </tr>\n",
       "    <tr>\n",
       "      <th>4</th>\n",
       "      <td>5</td>\n",
       "      <td>961</td>\n",
       "      <td>8</td>\n",
       "      <td>2024-11-06</td>\n",
       "      <td>GSW</td>\n",
       "      <td>@</td>\n",
       "      <td>BOS</td>\n",
       "      <td>W, 118-112</td>\n",
       "      <td>*</td>\n",
       "      <td>34:23</td>\n",
       "      <td>...</td>\n",
       "      <td>7</td>\n",
       "      <td>7</td>\n",
       "      <td>9</td>\n",
       "      <td>4</td>\n",
       "      <td>1</td>\n",
       "      <td>3</td>\n",
       "      <td>2</td>\n",
       "      <td>27</td>\n",
       "      <td>27.6</td>\n",
       "      <td>7</td>\n",
       "    </tr>\n",
       "    <tr>\n",
       "      <th>...</th>\n",
       "      <td>...</td>\n",
       "      <td>...</td>\n",
       "      <td>...</td>\n",
       "      <td>...</td>\n",
       "      <td>...</td>\n",
       "      <td>...</td>\n",
       "      <td>...</td>\n",
       "      <td>...</td>\n",
       "      <td>...</td>\n",
       "      <td>...</td>\n",
       "      <td>...</td>\n",
       "      <td>...</td>\n",
       "      <td>...</td>\n",
       "      <td>...</td>\n",
       "      <td>...</td>\n",
       "      <td>...</td>\n",
       "      <td>...</td>\n",
       "      <td>...</td>\n",
       "      <td>...</td>\n",
       "      <td>...</td>\n",
       "      <td>...</td>\n",
       "    </tr>\n",
       "    <tr>\n",
       "      <th>65</th>\n",
       "      <td>66</td>\n",
       "      <td>1022</td>\n",
       "      <td>78</td>\n",
       "      <td>2025-04-06</td>\n",
       "      <td>GSW</td>\n",
       "      <td>NaN</td>\n",
       "      <td>HOU</td>\n",
       "      <td>L, 96-106</td>\n",
       "      <td>*</td>\n",
       "      <td>32:40</td>\n",
       "      <td>...</td>\n",
       "      <td>2</td>\n",
       "      <td>2</td>\n",
       "      <td>8</td>\n",
       "      <td>0</td>\n",
       "      <td>0</td>\n",
       "      <td>4</td>\n",
       "      <td>0</td>\n",
       "      <td>3</td>\n",
       "      <td>-1.4</td>\n",
       "      <td>-4</td>\n",
       "    </tr>\n",
       "    <tr>\n",
       "      <th>66</th>\n",
       "      <td>67</td>\n",
       "      <td>1023</td>\n",
       "      <td>79</td>\n",
       "      <td>2025-04-08</td>\n",
       "      <td>GSW</td>\n",
       "      <td>@</td>\n",
       "      <td>PHO</td>\n",
       "      <td>W, 133-95</td>\n",
       "      <td>*</td>\n",
       "      <td>25:55</td>\n",
       "      <td>...</td>\n",
       "      <td>8</td>\n",
       "      <td>9</td>\n",
       "      <td>6</td>\n",
       "      <td>1</td>\n",
       "      <td>1</td>\n",
       "      <td>2</td>\n",
       "      <td>0</td>\n",
       "      <td>25</td>\n",
       "      <td>23.7</td>\n",
       "      <td>31</td>\n",
       "    </tr>\n",
       "    <tr>\n",
       "      <th>67</th>\n",
       "      <td>68</td>\n",
       "      <td>1024</td>\n",
       "      <td>80</td>\n",
       "      <td>2025-04-09</td>\n",
       "      <td>GSW</td>\n",
       "      <td>NaN</td>\n",
       "      <td>SAS</td>\n",
       "      <td>L, 111-114</td>\n",
       "      <td>*</td>\n",
       "      <td>36:35</td>\n",
       "      <td>...</td>\n",
       "      <td>6</td>\n",
       "      <td>8</td>\n",
       "      <td>3</td>\n",
       "      <td>2</td>\n",
       "      <td>0</td>\n",
       "      <td>1</td>\n",
       "      <td>0</td>\n",
       "      <td>30</td>\n",
       "      <td>24.3</td>\n",
       "      <td>13</td>\n",
       "    </tr>\n",
       "    <tr>\n",
       "      <th>68</th>\n",
       "      <td>69</td>\n",
       "      <td>1025</td>\n",
       "      <td>81</td>\n",
       "      <td>2025-04-11</td>\n",
       "      <td>GSW</td>\n",
       "      <td>@</td>\n",
       "      <td>POR</td>\n",
       "      <td>W, 103-86</td>\n",
       "      <td>*</td>\n",
       "      <td>27:20</td>\n",
       "      <td>...</td>\n",
       "      <td>4</td>\n",
       "      <td>5</td>\n",
       "      <td>5</td>\n",
       "      <td>0</td>\n",
       "      <td>1</td>\n",
       "      <td>1</td>\n",
       "      <td>2</td>\n",
       "      <td>14</td>\n",
       "      <td>10.9</td>\n",
       "      <td>8</td>\n",
       "    </tr>\n",
       "    <tr>\n",
       "      <th>69</th>\n",
       "      <td>70</td>\n",
       "      <td>1026</td>\n",
       "      <td>82</td>\n",
       "      <td>2025-04-13</td>\n",
       "      <td>GSW</td>\n",
       "      <td>NaN</td>\n",
       "      <td>LAC</td>\n",
       "      <td>L, 119-124 (OT)</td>\n",
       "      <td>*</td>\n",
       "      <td>38:00</td>\n",
       "      <td>...</td>\n",
       "      <td>2</td>\n",
       "      <td>3</td>\n",
       "      <td>6</td>\n",
       "      <td>2</td>\n",
       "      <td>0</td>\n",
       "      <td>8</td>\n",
       "      <td>2</td>\n",
       "      <td>36</td>\n",
       "      <td>24.7</td>\n",
       "      <td>-16</td>\n",
       "    </tr>\n",
       "  </tbody>\n",
       "</table>\n",
       "<p>70 rows × 34 columns</p>\n",
       "</div>"
      ],
      "text/plain": [
       "    Rk  Gcar  Gtm        Date Team Unnamed: 5  Opp           Result GS     MP  \\\n",
       "0    1   957    1  2024-10-23  GSW          @  POR       W, 140-104  *  25:04   \n",
       "1    2   958    2  2024-10-25  GSW          @  UTA        W, 127-86  *  27:25   \n",
       "2    3   959    3  2024-10-27  GSW        NaN  LAC       L, 104-112  *  26:42   \n",
       "3    4   960    7  2024-11-04  GSW          @  WAS       W, 125-112  *  24:05   \n",
       "4    5   961    8  2024-11-06  GSW          @  BOS       W, 118-112  *  34:23   \n",
       "..  ..   ...  ...         ...  ...        ...  ...              ... ..    ...   \n",
       "65  66  1022   78  2025-04-06  GSW        NaN  HOU        L, 96-106  *  32:40   \n",
       "66  67  1023   79  2025-04-08  GSW          @  PHO        W, 133-95  *  25:55   \n",
       "67  68  1024   80  2025-04-09  GSW        NaN  SAS       L, 111-114  *  36:35   \n",
       "68  69  1025   81  2025-04-11  GSW          @  POR        W, 103-86  *  27:20   \n",
       "69  70  1026   82  2025-04-13  GSW        NaN  LAC  L, 119-124 (OT)  *  38:00   \n",
       "\n",
       "    ...  DRB  TRB  AST  STL  BLK  TOV  PF  PTS  GmSc  +/-  \n",
       "0   ...    9    9   10    2    0    2   0   17  21.3   23  \n",
       "1   ...    3    3    4    2    0    3   3   20  10.3   22  \n",
       "2   ...    4    4    6    2    1    6   1   18  14.4    2  \n",
       "3   ...    2    3    6    0    0    2   1   24  19.4    9  \n",
       "4   ...    7    7    9    4    1    3   2   27  27.6    7  \n",
       "..  ...  ...  ...  ...  ...  ...  ...  ..  ...   ...  ...  \n",
       "65  ...    2    2    8    0    0    4   0    3  -1.4   -4  \n",
       "66  ...    8    9    6    1    1    2   0   25  23.7   31  \n",
       "67  ...    6    8    3    2    0    1   0   30  24.3   13  \n",
       "68  ...    4    5    5    0    1    1   2   14  10.9    8  \n",
       "69  ...    2    3    6    2    0    8   2   36  24.7  -16  \n",
       "\n",
       "[70 rows x 34 columns]"
      ]
     },
     "execution_count": 9,
     "metadata": {},
     "output_type": "execute_result"
    }
   ],
   "source": [
    "df = pd.read_csv(r\"D:\\Old desktop\\Documents\\Downloads\\sportsref_download.csv\")\n",
    "df"
   ]
  },
  {
   "cell_type": "code",
   "execution_count": 11,
   "id": "509a5f7a-77ae-4ef2-9d70-320bd8e91d27",
   "metadata": {},
   "outputs": [
    {
     "data": {
      "text/html": [
       "<div>\n",
       "<style scoped>\n",
       "    .dataframe tbody tr th:only-of-type {\n",
       "        vertical-align: middle;\n",
       "    }\n",
       "\n",
       "    .dataframe tbody tr th {\n",
       "        vertical-align: top;\n",
       "    }\n",
       "\n",
       "    .dataframe thead th {\n",
       "        text-align: right;\n",
       "    }\n",
       "</style>\n",
       "<table border=\"1\" class=\"dataframe\">\n",
       "  <thead>\n",
       "    <tr style=\"text-align: right;\">\n",
       "      <th></th>\n",
       "      <th>Rk</th>\n",
       "      <th>Gcar</th>\n",
       "      <th>Gtm</th>\n",
       "      <th>Date</th>\n",
       "      <th>Team</th>\n",
       "      <th>Unnamed: 5</th>\n",
       "      <th>Opp</th>\n",
       "      <th>Result</th>\n",
       "      <th>GS</th>\n",
       "      <th>MP</th>\n",
       "      <th>...</th>\n",
       "      <th>DRB</th>\n",
       "      <th>TRB</th>\n",
       "      <th>AST</th>\n",
       "      <th>STL</th>\n",
       "      <th>BLK</th>\n",
       "      <th>TOV</th>\n",
       "      <th>PF</th>\n",
       "      <th>PTS</th>\n",
       "      <th>GmSc</th>\n",
       "      <th>+/-</th>\n",
       "    </tr>\n",
       "  </thead>\n",
       "  <tbody>\n",
       "    <tr>\n",
       "      <th>0</th>\n",
       "      <td>1</td>\n",
       "      <td>957</td>\n",
       "      <td>1</td>\n",
       "      <td>2024-10-23</td>\n",
       "      <td>GSW</td>\n",
       "      <td>@</td>\n",
       "      <td>POR</td>\n",
       "      <td>W, 140-104</td>\n",
       "      <td>*</td>\n",
       "      <td>25:04</td>\n",
       "      <td>...</td>\n",
       "      <td>9</td>\n",
       "      <td>9</td>\n",
       "      <td>10</td>\n",
       "      <td>2</td>\n",
       "      <td>0</td>\n",
       "      <td>2</td>\n",
       "      <td>0</td>\n",
       "      <td>17</td>\n",
       "      <td>21.3</td>\n",
       "      <td>23</td>\n",
       "    </tr>\n",
       "    <tr>\n",
       "      <th>1</th>\n",
       "      <td>2</td>\n",
       "      <td>958</td>\n",
       "      <td>2</td>\n",
       "      <td>2024-10-25</td>\n",
       "      <td>GSW</td>\n",
       "      <td>@</td>\n",
       "      <td>UTA</td>\n",
       "      <td>W, 127-86</td>\n",
       "      <td>*</td>\n",
       "      <td>27:25</td>\n",
       "      <td>...</td>\n",
       "      <td>3</td>\n",
       "      <td>3</td>\n",
       "      <td>4</td>\n",
       "      <td>2</td>\n",
       "      <td>0</td>\n",
       "      <td>3</td>\n",
       "      <td>3</td>\n",
       "      <td>20</td>\n",
       "      <td>10.3</td>\n",
       "      <td>22</td>\n",
       "    </tr>\n",
       "    <tr>\n",
       "      <th>2</th>\n",
       "      <td>3</td>\n",
       "      <td>959</td>\n",
       "      <td>3</td>\n",
       "      <td>2024-10-27</td>\n",
       "      <td>GSW</td>\n",
       "      <td>NaN</td>\n",
       "      <td>LAC</td>\n",
       "      <td>L, 104-112</td>\n",
       "      <td>*</td>\n",
       "      <td>26:42</td>\n",
       "      <td>...</td>\n",
       "      <td>4</td>\n",
       "      <td>4</td>\n",
       "      <td>6</td>\n",
       "      <td>2</td>\n",
       "      <td>1</td>\n",
       "      <td>6</td>\n",
       "      <td>1</td>\n",
       "      <td>18</td>\n",
       "      <td>14.4</td>\n",
       "      <td>2</td>\n",
       "    </tr>\n",
       "    <tr>\n",
       "      <th>3</th>\n",
       "      <td>4</td>\n",
       "      <td>960</td>\n",
       "      <td>7</td>\n",
       "      <td>2024-11-04</td>\n",
       "      <td>GSW</td>\n",
       "      <td>@</td>\n",
       "      <td>WAS</td>\n",
       "      <td>W, 125-112</td>\n",
       "      <td>*</td>\n",
       "      <td>24:05</td>\n",
       "      <td>...</td>\n",
       "      <td>2</td>\n",
       "      <td>3</td>\n",
       "      <td>6</td>\n",
       "      <td>0</td>\n",
       "      <td>0</td>\n",
       "      <td>2</td>\n",
       "      <td>1</td>\n",
       "      <td>24</td>\n",
       "      <td>19.4</td>\n",
       "      <td>9</td>\n",
       "    </tr>\n",
       "    <tr>\n",
       "      <th>4</th>\n",
       "      <td>5</td>\n",
       "      <td>961</td>\n",
       "      <td>8</td>\n",
       "      <td>2024-11-06</td>\n",
       "      <td>GSW</td>\n",
       "      <td>@</td>\n",
       "      <td>BOS</td>\n",
       "      <td>W, 118-112</td>\n",
       "      <td>*</td>\n",
       "      <td>34:23</td>\n",
       "      <td>...</td>\n",
       "      <td>7</td>\n",
       "      <td>7</td>\n",
       "      <td>9</td>\n",
       "      <td>4</td>\n",
       "      <td>1</td>\n",
       "      <td>3</td>\n",
       "      <td>2</td>\n",
       "      <td>27</td>\n",
       "      <td>27.6</td>\n",
       "      <td>7</td>\n",
       "    </tr>\n",
       "  </tbody>\n",
       "</table>\n",
       "<p>5 rows × 34 columns</p>\n",
       "</div>"
      ],
      "text/plain": [
       "   Rk  Gcar  Gtm        Date Team Unnamed: 5  Opp      Result GS     MP  ...  \\\n",
       "0   1   957    1  2024-10-23  GSW          @  POR  W, 140-104  *  25:04  ...   \n",
       "1   2   958    2  2024-10-25  GSW          @  UTA   W, 127-86  *  27:25  ...   \n",
       "2   3   959    3  2024-10-27  GSW        NaN  LAC  L, 104-112  *  26:42  ...   \n",
       "3   4   960    7  2024-11-04  GSW          @  WAS  W, 125-112  *  24:05  ...   \n",
       "4   5   961    8  2024-11-06  GSW          @  BOS  W, 118-112  *  34:23  ...   \n",
       "\n",
       "   DRB  TRB  AST  STL  BLK  TOV  PF  PTS  GmSc  +/-  \n",
       "0    9    9   10    2    0    2   0   17  21.3   23  \n",
       "1    3    3    4    2    0    3   3   20  10.3   22  \n",
       "2    4    4    6    2    1    6   1   18  14.4    2  \n",
       "3    2    3    6    0    0    2   1   24  19.4    9  \n",
       "4    7    7    9    4    1    3   2   27  27.6    7  \n",
       "\n",
       "[5 rows x 34 columns]"
      ]
     },
     "execution_count": 11,
     "metadata": {},
     "output_type": "execute_result"
    }
   ],
   "source": [
    "df.head()"
   ]
  },
  {
   "cell_type": "code",
   "execution_count": 13,
   "id": "575c5d02-b3a6-4624-8b76-669fdd37464a",
   "metadata": {},
   "outputs": [
    {
     "data": {
      "text/html": [
       "<div>\n",
       "<style scoped>\n",
       "    .dataframe tbody tr th:only-of-type {\n",
       "        vertical-align: middle;\n",
       "    }\n",
       "\n",
       "    .dataframe tbody tr th {\n",
       "        vertical-align: top;\n",
       "    }\n",
       "\n",
       "    .dataframe thead th {\n",
       "        text-align: right;\n",
       "    }\n",
       "</style>\n",
       "<table border=\"1\" class=\"dataframe\">\n",
       "  <thead>\n",
       "    <tr style=\"text-align: right;\">\n",
       "      <th></th>\n",
       "      <th>Rk</th>\n",
       "      <th>Gcar</th>\n",
       "      <th>Gtm</th>\n",
       "      <th>Date</th>\n",
       "      <th>Team</th>\n",
       "      <th>Unnamed: 5</th>\n",
       "      <th>Opp</th>\n",
       "      <th>Result</th>\n",
       "      <th>GS</th>\n",
       "      <th>MP</th>\n",
       "      <th>...</th>\n",
       "      <th>DRB</th>\n",
       "      <th>TRB</th>\n",
       "      <th>AST</th>\n",
       "      <th>STL</th>\n",
       "      <th>BLK</th>\n",
       "      <th>TOV</th>\n",
       "      <th>PF</th>\n",
       "      <th>PTS</th>\n",
       "      <th>GmSc</th>\n",
       "      <th>+/-</th>\n",
       "    </tr>\n",
       "  </thead>\n",
       "  <tbody>\n",
       "    <tr>\n",
       "      <th>65</th>\n",
       "      <td>66</td>\n",
       "      <td>1022</td>\n",
       "      <td>78</td>\n",
       "      <td>2025-04-06</td>\n",
       "      <td>GSW</td>\n",
       "      <td>NaN</td>\n",
       "      <td>HOU</td>\n",
       "      <td>L, 96-106</td>\n",
       "      <td>*</td>\n",
       "      <td>32:40</td>\n",
       "      <td>...</td>\n",
       "      <td>2</td>\n",
       "      <td>2</td>\n",
       "      <td>8</td>\n",
       "      <td>0</td>\n",
       "      <td>0</td>\n",
       "      <td>4</td>\n",
       "      <td>0</td>\n",
       "      <td>3</td>\n",
       "      <td>-1.4</td>\n",
       "      <td>-4</td>\n",
       "    </tr>\n",
       "    <tr>\n",
       "      <th>66</th>\n",
       "      <td>67</td>\n",
       "      <td>1023</td>\n",
       "      <td>79</td>\n",
       "      <td>2025-04-08</td>\n",
       "      <td>GSW</td>\n",
       "      <td>@</td>\n",
       "      <td>PHO</td>\n",
       "      <td>W, 133-95</td>\n",
       "      <td>*</td>\n",
       "      <td>25:55</td>\n",
       "      <td>...</td>\n",
       "      <td>8</td>\n",
       "      <td>9</td>\n",
       "      <td>6</td>\n",
       "      <td>1</td>\n",
       "      <td>1</td>\n",
       "      <td>2</td>\n",
       "      <td>0</td>\n",
       "      <td>25</td>\n",
       "      <td>23.7</td>\n",
       "      <td>31</td>\n",
       "    </tr>\n",
       "    <tr>\n",
       "      <th>67</th>\n",
       "      <td>68</td>\n",
       "      <td>1024</td>\n",
       "      <td>80</td>\n",
       "      <td>2025-04-09</td>\n",
       "      <td>GSW</td>\n",
       "      <td>NaN</td>\n",
       "      <td>SAS</td>\n",
       "      <td>L, 111-114</td>\n",
       "      <td>*</td>\n",
       "      <td>36:35</td>\n",
       "      <td>...</td>\n",
       "      <td>6</td>\n",
       "      <td>8</td>\n",
       "      <td>3</td>\n",
       "      <td>2</td>\n",
       "      <td>0</td>\n",
       "      <td>1</td>\n",
       "      <td>0</td>\n",
       "      <td>30</td>\n",
       "      <td>24.3</td>\n",
       "      <td>13</td>\n",
       "    </tr>\n",
       "    <tr>\n",
       "      <th>68</th>\n",
       "      <td>69</td>\n",
       "      <td>1025</td>\n",
       "      <td>81</td>\n",
       "      <td>2025-04-11</td>\n",
       "      <td>GSW</td>\n",
       "      <td>@</td>\n",
       "      <td>POR</td>\n",
       "      <td>W, 103-86</td>\n",
       "      <td>*</td>\n",
       "      <td>27:20</td>\n",
       "      <td>...</td>\n",
       "      <td>4</td>\n",
       "      <td>5</td>\n",
       "      <td>5</td>\n",
       "      <td>0</td>\n",
       "      <td>1</td>\n",
       "      <td>1</td>\n",
       "      <td>2</td>\n",
       "      <td>14</td>\n",
       "      <td>10.9</td>\n",
       "      <td>8</td>\n",
       "    </tr>\n",
       "    <tr>\n",
       "      <th>69</th>\n",
       "      <td>70</td>\n",
       "      <td>1026</td>\n",
       "      <td>82</td>\n",
       "      <td>2025-04-13</td>\n",
       "      <td>GSW</td>\n",
       "      <td>NaN</td>\n",
       "      <td>LAC</td>\n",
       "      <td>L, 119-124 (OT)</td>\n",
       "      <td>*</td>\n",
       "      <td>38:00</td>\n",
       "      <td>...</td>\n",
       "      <td>2</td>\n",
       "      <td>3</td>\n",
       "      <td>6</td>\n",
       "      <td>2</td>\n",
       "      <td>0</td>\n",
       "      <td>8</td>\n",
       "      <td>2</td>\n",
       "      <td>36</td>\n",
       "      <td>24.7</td>\n",
       "      <td>-16</td>\n",
       "    </tr>\n",
       "  </tbody>\n",
       "</table>\n",
       "<p>5 rows × 34 columns</p>\n",
       "</div>"
      ],
      "text/plain": [
       "    Rk  Gcar  Gtm        Date Team Unnamed: 5  Opp           Result GS     MP  \\\n",
       "65  66  1022   78  2025-04-06  GSW        NaN  HOU        L, 96-106  *  32:40   \n",
       "66  67  1023   79  2025-04-08  GSW          @  PHO        W, 133-95  *  25:55   \n",
       "67  68  1024   80  2025-04-09  GSW        NaN  SAS       L, 111-114  *  36:35   \n",
       "68  69  1025   81  2025-04-11  GSW          @  POR        W, 103-86  *  27:20   \n",
       "69  70  1026   82  2025-04-13  GSW        NaN  LAC  L, 119-124 (OT)  *  38:00   \n",
       "\n",
       "    ...  DRB  TRB  AST  STL  BLK  TOV  PF  PTS  GmSc  +/-  \n",
       "65  ...    2    2    8    0    0    4   0    3  -1.4   -4  \n",
       "66  ...    8    9    6    1    1    2   0   25  23.7   31  \n",
       "67  ...    6    8    3    2    0    1   0   30  24.3   13  \n",
       "68  ...    4    5    5    0    1    1   2   14  10.9    8  \n",
       "69  ...    2    3    6    2    0    8   2   36  24.7  -16  \n",
       "\n",
       "[5 rows x 34 columns]"
      ]
     },
     "execution_count": 13,
     "metadata": {},
     "output_type": "execute_result"
    }
   ],
   "source": [
    "df.tail()"
   ]
  },
  {
   "cell_type": "code",
   "execution_count": 15,
   "id": "67f07fab-2686-46a5-8158-97afc501671a",
   "metadata": {},
   "outputs": [
    {
     "data": {
      "text/html": [
       "<div>\n",
       "<style scoped>\n",
       "    .dataframe tbody tr th:only-of-type {\n",
       "        vertical-align: middle;\n",
       "    }\n",
       "\n",
       "    .dataframe tbody tr th {\n",
       "        vertical-align: top;\n",
       "    }\n",
       "\n",
       "    .dataframe thead th {\n",
       "        text-align: right;\n",
       "    }\n",
       "</style>\n",
       "<table border=\"1\" class=\"dataframe\">\n",
       "  <thead>\n",
       "    <tr style=\"text-align: right;\">\n",
       "      <th></th>\n",
       "      <th>Rk</th>\n",
       "      <th>Gcar</th>\n",
       "      <th>Gtm</th>\n",
       "      <th>FG</th>\n",
       "      <th>FGA</th>\n",
       "      <th>FG%</th>\n",
       "      <th>3P</th>\n",
       "      <th>3PA</th>\n",
       "      <th>3P%</th>\n",
       "      <th>2P</th>\n",
       "      <th>...</th>\n",
       "      <th>DRB</th>\n",
       "      <th>TRB</th>\n",
       "      <th>AST</th>\n",
       "      <th>STL</th>\n",
       "      <th>BLK</th>\n",
       "      <th>TOV</th>\n",
       "      <th>PF</th>\n",
       "      <th>PTS</th>\n",
       "      <th>GmSc</th>\n",
       "      <th>+/-</th>\n",
       "    </tr>\n",
       "  </thead>\n",
       "  <tbody>\n",
       "    <tr>\n",
       "      <th>count</th>\n",
       "      <td>70.000000</td>\n",
       "      <td>70.000000</td>\n",
       "      <td>70.000000</td>\n",
       "      <td>70.000000</td>\n",
       "      <td>70.000000</td>\n",
       "      <td>70.000000</td>\n",
       "      <td>70.000000</td>\n",
       "      <td>70.000000</td>\n",
       "      <td>70.000000</td>\n",
       "      <td>70.000000</td>\n",
       "      <td>...</td>\n",
       "      <td>70.000000</td>\n",
       "      <td>70.000000</td>\n",
       "      <td>70.000000</td>\n",
       "      <td>70.000000</td>\n",
       "      <td>70.000000</td>\n",
       "      <td>70.000000</td>\n",
       "      <td>70.000000</td>\n",
       "      <td>70.000000</td>\n",
       "      <td>70.000000</td>\n",
       "      <td>70.000000</td>\n",
       "    </tr>\n",
       "    <tr>\n",
       "      <th>mean</th>\n",
       "      <td>35.500000</td>\n",
       "      <td>991.500000</td>\n",
       "      <td>42.700000</td>\n",
       "      <td>8.057143</td>\n",
       "      <td>17.971429</td>\n",
       "      <td>0.445414</td>\n",
       "      <td>4.442857</td>\n",
       "      <td>11.200000</td>\n",
       "      <td>0.392371</td>\n",
       "      <td>3.614286</td>\n",
       "      <td>...</td>\n",
       "      <td>3.857143</td>\n",
       "      <td>4.428571</td>\n",
       "      <td>6.014286</td>\n",
       "      <td>1.142857</td>\n",
       "      <td>0.428571</td>\n",
       "      <td>2.857143</td>\n",
       "      <td>1.357143</td>\n",
       "      <td>24.542857</td>\n",
       "      <td>18.881429</td>\n",
       "      <td>4.271429</td>\n",
       "    </tr>\n",
       "    <tr>\n",
       "      <th>std</th>\n",
       "      <td>20.351085</td>\n",
       "      <td>20.351085</td>\n",
       "      <td>23.495513</td>\n",
       "      <td>3.296400</td>\n",
       "      <td>5.651655</td>\n",
       "      <td>0.130263</td>\n",
       "      <td>2.350675</td>\n",
       "      <td>3.884566</td>\n",
       "      <td>0.151744</td>\n",
       "      <td>1.980286</td>\n",
       "      <td>...</td>\n",
       "      <td>2.234679</td>\n",
       "      <td>2.331706</td>\n",
       "      <td>2.678377</td>\n",
       "      <td>1.067107</td>\n",
       "      <td>0.649892</td>\n",
       "      <td>1.581466</td>\n",
       "      <td>1.103824</td>\n",
       "      <td>9.931192</td>\n",
       "      <td>9.035506</td>\n",
       "      <td>14.315211</td>\n",
       "    </tr>\n",
       "    <tr>\n",
       "      <th>min</th>\n",
       "      <td>1.000000</td>\n",
       "      <td>957.000000</td>\n",
       "      <td>1.000000</td>\n",
       "      <td>0.000000</td>\n",
       "      <td>7.000000</td>\n",
       "      <td>0.000000</td>\n",
       "      <td>0.000000</td>\n",
       "      <td>4.000000</td>\n",
       "      <td>0.000000</td>\n",
       "      <td>0.000000</td>\n",
       "      <td>...</td>\n",
       "      <td>0.000000</td>\n",
       "      <td>1.000000</td>\n",
       "      <td>0.000000</td>\n",
       "      <td>0.000000</td>\n",
       "      <td>0.000000</td>\n",
       "      <td>0.000000</td>\n",
       "      <td>0.000000</td>\n",
       "      <td>2.000000</td>\n",
       "      <td>-1.600000</td>\n",
       "      <td>-41.000000</td>\n",
       "    </tr>\n",
       "    <tr>\n",
       "      <th>25%</th>\n",
       "      <td>18.250000</td>\n",
       "      <td>974.250000</td>\n",
       "      <td>23.250000</td>\n",
       "      <td>6.000000</td>\n",
       "      <td>14.000000</td>\n",
       "      <td>0.382500</td>\n",
       "      <td>3.000000</td>\n",
       "      <td>9.000000</td>\n",
       "      <td>0.300000</td>\n",
       "      <td>2.000000</td>\n",
       "      <td>...</td>\n",
       "      <td>2.000000</td>\n",
       "      <td>3.000000</td>\n",
       "      <td>4.000000</td>\n",
       "      <td>0.000000</td>\n",
       "      <td>0.000000</td>\n",
       "      <td>2.000000</td>\n",
       "      <td>0.000000</td>\n",
       "      <td>18.000000</td>\n",
       "      <td>13.525000</td>\n",
       "      <td>-3.750000</td>\n",
       "    </tr>\n",
       "    <tr>\n",
       "      <th>50%</th>\n",
       "      <td>35.500000</td>\n",
       "      <td>991.500000</td>\n",
       "      <td>43.500000</td>\n",
       "      <td>8.000000</td>\n",
       "      <td>18.000000</td>\n",
       "      <td>0.458500</td>\n",
       "      <td>4.000000</td>\n",
       "      <td>11.000000</td>\n",
       "      <td>0.380000</td>\n",
       "      <td>3.500000</td>\n",
       "      <td>...</td>\n",
       "      <td>4.000000</td>\n",
       "      <td>4.000000</td>\n",
       "      <td>6.000000</td>\n",
       "      <td>1.000000</td>\n",
       "      <td>0.000000</td>\n",
       "      <td>3.000000</td>\n",
       "      <td>1.000000</td>\n",
       "      <td>24.000000</td>\n",
       "      <td>19.250000</td>\n",
       "      <td>4.500000</td>\n",
       "    </tr>\n",
       "    <tr>\n",
       "      <th>75%</th>\n",
       "      <td>52.750000</td>\n",
       "      <td>1008.750000</td>\n",
       "      <td>61.750000</td>\n",
       "      <td>10.000000</td>\n",
       "      <td>21.000000</td>\n",
       "      <td>0.518250</td>\n",
       "      <td>5.750000</td>\n",
       "      <td>14.000000</td>\n",
       "      <td>0.500000</td>\n",
       "      <td>5.000000</td>\n",
       "      <td>...</td>\n",
       "      <td>5.750000</td>\n",
       "      <td>6.750000</td>\n",
       "      <td>7.750000</td>\n",
       "      <td>2.000000</td>\n",
       "      <td>1.000000</td>\n",
       "      <td>4.000000</td>\n",
       "      <td>2.000000</td>\n",
       "      <td>30.000000</td>\n",
       "      <td>24.675000</td>\n",
       "      <td>13.750000</td>\n",
       "    </tr>\n",
       "    <tr>\n",
       "      <th>max</th>\n",
       "      <td>70.000000</td>\n",
       "      <td>1026.000000</td>\n",
       "      <td>82.000000</td>\n",
       "      <td>16.000000</td>\n",
       "      <td>35.000000</td>\n",
       "      <td>0.750000</td>\n",
       "      <td>12.000000</td>\n",
       "      <td>20.000000</td>\n",
       "      <td>1.000000</td>\n",
       "      <td>9.000000</td>\n",
       "      <td>...</td>\n",
       "      <td>9.000000</td>\n",
       "      <td>10.000000</td>\n",
       "      <td>13.000000</td>\n",
       "      <td>5.000000</td>\n",
       "      <td>3.000000</td>\n",
       "      <td>8.000000</td>\n",
       "      <td>4.000000</td>\n",
       "      <td>56.000000</td>\n",
       "      <td>48.600000</td>\n",
       "      <td>32.000000</td>\n",
       "    </tr>\n",
       "  </tbody>\n",
       "</table>\n",
       "<p>8 rows × 27 columns</p>\n",
       "</div>"
      ],
      "text/plain": [
       "              Rk         Gcar        Gtm         FG        FGA        FG%  \\\n",
       "count  70.000000    70.000000  70.000000  70.000000  70.000000  70.000000   \n",
       "mean   35.500000   991.500000  42.700000   8.057143  17.971429   0.445414   \n",
       "std    20.351085    20.351085  23.495513   3.296400   5.651655   0.130263   \n",
       "min     1.000000   957.000000   1.000000   0.000000   7.000000   0.000000   \n",
       "25%    18.250000   974.250000  23.250000   6.000000  14.000000   0.382500   \n",
       "50%    35.500000   991.500000  43.500000   8.000000  18.000000   0.458500   \n",
       "75%    52.750000  1008.750000  61.750000  10.000000  21.000000   0.518250   \n",
       "max    70.000000  1026.000000  82.000000  16.000000  35.000000   0.750000   \n",
       "\n",
       "              3P        3PA        3P%         2P  ...        DRB        TRB  \\\n",
       "count  70.000000  70.000000  70.000000  70.000000  ...  70.000000  70.000000   \n",
       "mean    4.442857  11.200000   0.392371   3.614286  ...   3.857143   4.428571   \n",
       "std     2.350675   3.884566   0.151744   1.980286  ...   2.234679   2.331706   \n",
       "min     0.000000   4.000000   0.000000   0.000000  ...   0.000000   1.000000   \n",
       "25%     3.000000   9.000000   0.300000   2.000000  ...   2.000000   3.000000   \n",
       "50%     4.000000  11.000000   0.380000   3.500000  ...   4.000000   4.000000   \n",
       "75%     5.750000  14.000000   0.500000   5.000000  ...   5.750000   6.750000   \n",
       "max    12.000000  20.000000   1.000000   9.000000  ...   9.000000  10.000000   \n",
       "\n",
       "             AST        STL        BLK        TOV         PF        PTS  \\\n",
       "count  70.000000  70.000000  70.000000  70.000000  70.000000  70.000000   \n",
       "mean    6.014286   1.142857   0.428571   2.857143   1.357143  24.542857   \n",
       "std     2.678377   1.067107   0.649892   1.581466   1.103824   9.931192   \n",
       "min     0.000000   0.000000   0.000000   0.000000   0.000000   2.000000   \n",
       "25%     4.000000   0.000000   0.000000   2.000000   0.000000  18.000000   \n",
       "50%     6.000000   1.000000   0.000000   3.000000   1.000000  24.000000   \n",
       "75%     7.750000   2.000000   1.000000   4.000000   2.000000  30.000000   \n",
       "max    13.000000   5.000000   3.000000   8.000000   4.000000  56.000000   \n",
       "\n",
       "            GmSc        +/-  \n",
       "count  70.000000  70.000000  \n",
       "mean   18.881429   4.271429  \n",
       "std     9.035506  14.315211  \n",
       "min    -1.600000 -41.000000  \n",
       "25%    13.525000  -3.750000  \n",
       "50%    19.250000   4.500000  \n",
       "75%    24.675000  13.750000  \n",
       "max    48.600000  32.000000  \n",
       "\n",
       "[8 rows x 27 columns]"
      ]
     },
     "execution_count": 15,
     "metadata": {},
     "output_type": "execute_result"
    }
   ],
   "source": [
    "df.describe()"
   ]
  },
  {
   "cell_type": "code",
   "execution_count": 17,
   "id": "899fff13-4c39-47f2-9c6e-5a63b3fdade8",
   "metadata": {},
   "outputs": [
    {
     "name": "stdout",
     "output_type": "stream",
     "text": [
      "<class 'pandas.core.frame.DataFrame'>\n",
      "RangeIndex: 70 entries, 0 to 69\n",
      "Data columns (total 34 columns):\n",
      " #   Column      Non-Null Count  Dtype  \n",
      "---  ------      --------------  -----  \n",
      " 0   Rk          70 non-null     int64  \n",
      " 1   Gcar        70 non-null     int64  \n",
      " 2   Gtm         70 non-null     int64  \n",
      " 3   Date        70 non-null     object \n",
      " 4   Team        70 non-null     object \n",
      " 5   Unnamed: 5  36 non-null     object \n",
      " 6   Opp         70 non-null     object \n",
      " 7   Result      70 non-null     object \n",
      " 8   GS          70 non-null     object \n",
      " 9   MP          70 non-null     object \n",
      " 10  FG          70 non-null     int64  \n",
      " 11  FGA         70 non-null     int64  \n",
      " 12  FG%         70 non-null     float64\n",
      " 13  3P          70 non-null     int64  \n",
      " 14  3PA         70 non-null     int64  \n",
      " 15  3P%         70 non-null     float64\n",
      " 16  2P          70 non-null     int64  \n",
      " 17  2PA         70 non-null     int64  \n",
      " 18  2P%         70 non-null     float64\n",
      " 19  eFG%        70 non-null     float64\n",
      " 20  FT          70 non-null     int64  \n",
      " 21  FTA         70 non-null     int64  \n",
      " 22  FT%         63 non-null     float64\n",
      " 23  ORB         70 non-null     int64  \n",
      " 24  DRB         70 non-null     int64  \n",
      " 25  TRB         70 non-null     int64  \n",
      " 26  AST         70 non-null     int64  \n",
      " 27  STL         70 non-null     int64  \n",
      " 28  BLK         70 non-null     int64  \n",
      " 29  TOV         70 non-null     int64  \n",
      " 30  PF          70 non-null     int64  \n",
      " 31  PTS         70 non-null     int64  \n",
      " 32  GmSc        70 non-null     float64\n",
      " 33  +/-         70 non-null     int64  \n",
      "dtypes: float64(6), int64(21), object(7)\n",
      "memory usage: 18.7+ KB\n"
     ]
    }
   ],
   "source": [
    "df.info()"
   ]
  },
  {
   "cell_type": "code",
   "execution_count": 19,
   "id": "2d7730e2-0eb1-4831-aaf0-3aa7dce4affa",
   "metadata": {},
   "outputs": [
    {
     "data": {
      "text/plain": [
       "(70, 34)"
      ]
     },
     "execution_count": 19,
     "metadata": {},
     "output_type": "execute_result"
    }
   ],
   "source": [
    "df.shape"
   ]
  },
  {
   "cell_type": "code",
   "execution_count": 21,
   "id": "fa354b20-842a-424d-b8c1-ca6194dec35a",
   "metadata": {},
   "outputs": [
    {
     "data": {
      "text/plain": [
       "Rk              int64\n",
       "Gcar            int64\n",
       "Gtm             int64\n",
       "Date           object\n",
       "Team           object\n",
       "Unnamed: 5     object\n",
       "Opp            object\n",
       "Result         object\n",
       "GS             object\n",
       "MP             object\n",
       "FG              int64\n",
       "FGA             int64\n",
       "FG%           float64\n",
       "3P              int64\n",
       "3PA             int64\n",
       "3P%           float64\n",
       "2P              int64\n",
       "2PA             int64\n",
       "2P%           float64\n",
       "eFG%          float64\n",
       "FT              int64\n",
       "FTA             int64\n",
       "FT%           float64\n",
       "ORB             int64\n",
       "DRB             int64\n",
       "TRB             int64\n",
       "AST             int64\n",
       "STL             int64\n",
       "BLK             int64\n",
       "TOV             int64\n",
       "PF              int64\n",
       "PTS             int64\n",
       "GmSc          float64\n",
       "+/-             int64\n",
       "dtype: object"
      ]
     },
     "execution_count": 21,
     "metadata": {},
     "output_type": "execute_result"
    }
   ],
   "source": [
    "df.dtypes"
   ]
  },
  {
   "cell_type": "code",
   "execution_count": 23,
   "id": "8437dc57-69c5-45e8-9aa6-91dda9999762",
   "metadata": {},
   "outputs": [
    {
     "data": {
      "text/plain": [
       "Rk             0\n",
       "Gcar           0\n",
       "Gtm            0\n",
       "Date           0\n",
       "Team           0\n",
       "Unnamed: 5    34\n",
       "Opp            0\n",
       "Result         0\n",
       "GS             0\n",
       "MP             0\n",
       "FG             0\n",
       "FGA            0\n",
       "FG%            0\n",
       "3P             0\n",
       "3PA            0\n",
       "3P%            0\n",
       "2P             0\n",
       "2PA            0\n",
       "2P%            0\n",
       "eFG%           0\n",
       "FT             0\n",
       "FTA            0\n",
       "FT%            7\n",
       "ORB            0\n",
       "DRB            0\n",
       "TRB            0\n",
       "AST            0\n",
       "STL            0\n",
       "BLK            0\n",
       "TOV            0\n",
       "PF             0\n",
       "PTS            0\n",
       "GmSc           0\n",
       "+/-            0\n",
       "dtype: int64"
      ]
     },
     "execution_count": 23,
     "metadata": {},
     "output_type": "execute_result"
    }
   ],
   "source": [
    "df.isna().sum()"
   ]
  },
  {
   "cell_type": "code",
   "execution_count": 25,
   "id": "78e73fcf-72bb-493a-9612-edca0cd96e76",
   "metadata": {},
   "outputs": [
    {
     "data": {
      "text/plain": [
       "Index(['Rk', 'Gcar', 'Gtm', 'Date', 'Team', 'Unnamed: 5', 'Opp', 'Result',\n",
       "       'GS', 'MP', 'FG', 'FGA', 'FG%', '3P', '3PA', '3P%', '2P', '2PA', '2P%',\n",
       "       'eFG%', 'FT', 'FTA', 'FT%', 'ORB', 'DRB', 'TRB', 'AST', 'STL', 'BLK',\n",
       "       'TOV', 'PF', 'PTS', 'GmSc', '+/-'],\n",
       "      dtype='object')"
      ]
     },
     "execution_count": 25,
     "metadata": {},
     "output_type": "execute_result"
    }
   ],
   "source": [
    "df.columns"
   ]
  },
  {
   "cell_type": "code",
   "execution_count": null,
   "id": "c8466a96-7593-443c-b844-1bb7934b45d9",
   "metadata": {},
   "outputs": [],
   "source": []
  },
  {
   "cell_type": "markdown",
   "id": "c7382ac3-9a23-4381-b08b-314c7866b6a3",
   "metadata": {},
   "source": [
    "## 📊 Dataset Columns\n",
    "\n",
    "The dataset for Stephen Curry’s game log includes the following columns:\n",
    "\n",
    "| **Column**   | **Meaning** |\n",
    "|--------------|-------------|\n",
    "| **Rk**       | Rank/row number (for ordering purposes) |\n",
    "| **Gcar**     | Game number in **career** (e.g., 950th game overall) |\n",
    "| **Gtm**      | Game number in **season** (e.g., 32nd game this season) |\n",
    "| **Date**     | Date of the game |\n",
    "| **Team**     | Team abbreviation (GSW for Golden State Warriors) |\n",
    "| **Unnamed: 5** | Indicates **\"@\"** if it was an **away** game; blank for home games |\n",
    "| **Opp**      | Opponent team abbreviation |\n",
    "| **Result**   | Result of the game (e.g., \"W (+12)\" means a win by 12 points) |\n",
    "| **GS**       | Games started (1 if Curry started, 0 if not) |\n",
    "| **MP**       | Minutes Played |\n",
    "| **FG**       | Field Goals Made |\n",
    "| **FGA**      | Field Goals Attempted |\n",
    "| **FG%**      | Field Goal Percentage |\n",
    "| **3P**       | 3-Point Field Goals Made |\n",
    "| **3PA**      | 3-Point Field Goals Attempted |\n",
    "| **3P%**      | 3-Point Field Goal Percentage |\n",
    "| **2P**       | 2-Point Field Goals Made |\n",
    "| **2PA**      | 2-Point Field Goals Attempted |\n",
    "| **2P%**      | 2-Point Field Goal Percentage |\n",
    "| **eFG%**     | Effective Field Goal % (adjusts for 3-pointers being worth more) |\n",
    "| **FT**       | Free Throws Made |\n",
    "| **FTA**      | Free Throws Attempted |\n",
    "| **FT%**      | Free Throw Percentage |\n",
    "| **ORB**      | Offensive Rebounds |\n",
    "| **DRB**      | Defensive Rebounds |\n",
    "| **TRB**      | Total Rebounds (ORB + DRB) |\n",
    "| **AST**      | Assists |\n",
    "| **STL**      | Steals |\n",
    "| **BLK**      | Blocks |\n",
    "| **TOV**      | Turnovers |\n",
    "| **PF**       | Personal Fouls |\n",
    "| **PTS**      | **Points Scored** (your prediction target) |\n",
    "| **GmSc**     | Game Score (a single-value performance metric) |\n",
    "| **+/-**      | Point differential while the player was on the floor |\n",
    "\n",
    "---\n",
    "\n",
    "## ✅ Key Columns to Consider:\n",
    "\n",
    "- **Features (Inputs)**: `MP`, `FGA`, `3PA`, `FTA`, `AST`, `TOV`, `+/-`, `Home/Away` (from **Unnamed: 5**)\n",
    "- **Target (Output)**: `PTS` (Points Scored)\n",
    "\n"
   ]
  },
  {
   "cell_type": "code",
   "execution_count": null,
   "id": "2a25b2ca-7452-4269-8b21-f33fe3be4f0b",
   "metadata": {},
   "outputs": [],
   "source": []
  },
  {
   "cell_type": "code",
   "execution_count": 31,
   "id": "fd8c2a99-b88b-4c21-b1f5-5e5520d25823",
   "metadata": {},
   "outputs": [
    {
     "data": {
      "text/html": [
       "<div>\n",
       "<style scoped>\n",
       "    .dataframe tbody tr th:only-of-type {\n",
       "        vertical-align: middle;\n",
       "    }\n",
       "\n",
       "    .dataframe tbody tr th {\n",
       "        vertical-align: top;\n",
       "    }\n",
       "\n",
       "    .dataframe thead th {\n",
       "        text-align: right;\n",
       "    }\n",
       "</style>\n",
       "<table border=\"1\" class=\"dataframe\">\n",
       "  <thead>\n",
       "    <tr style=\"text-align: right;\">\n",
       "      <th></th>\n",
       "      <th>MP</th>\n",
       "      <th>FG</th>\n",
       "      <th>FGA</th>\n",
       "      <th>FG%</th>\n",
       "      <th>3P</th>\n",
       "      <th>3PA</th>\n",
       "      <th>3P%</th>\n",
       "      <th>2P</th>\n",
       "      <th>2PA</th>\n",
       "      <th>2P%</th>\n",
       "      <th>...</th>\n",
       "      <th>FT%</th>\n",
       "      <th>ORB</th>\n",
       "      <th>DRB</th>\n",
       "      <th>TRB</th>\n",
       "      <th>AST</th>\n",
       "      <th>STL</th>\n",
       "      <th>BLK</th>\n",
       "      <th>TOV</th>\n",
       "      <th>PF</th>\n",
       "      <th>PTS</th>\n",
       "    </tr>\n",
       "  </thead>\n",
       "  <tbody>\n",
       "    <tr>\n",
       "      <th>0</th>\n",
       "      <td>25:04</td>\n",
       "      <td>4</td>\n",
       "      <td>10</td>\n",
       "      <td>0.400</td>\n",
       "      <td>3</td>\n",
       "      <td>7</td>\n",
       "      <td>0.429</td>\n",
       "      <td>1</td>\n",
       "      <td>3</td>\n",
       "      <td>0.333</td>\n",
       "      <td>...</td>\n",
       "      <td>1.0</td>\n",
       "      <td>0</td>\n",
       "      <td>9</td>\n",
       "      <td>9</td>\n",
       "      <td>10</td>\n",
       "      <td>2</td>\n",
       "      <td>0</td>\n",
       "      <td>2</td>\n",
       "      <td>0</td>\n",
       "      <td>17</td>\n",
       "    </tr>\n",
       "    <tr>\n",
       "      <th>1</th>\n",
       "      <td>27:25</td>\n",
       "      <td>7</td>\n",
       "      <td>20</td>\n",
       "      <td>0.350</td>\n",
       "      <td>4</td>\n",
       "      <td>13</td>\n",
       "      <td>0.308</td>\n",
       "      <td>3</td>\n",
       "      <td>7</td>\n",
       "      <td>0.429</td>\n",
       "      <td>...</td>\n",
       "      <td>1.0</td>\n",
       "      <td>0</td>\n",
       "      <td>3</td>\n",
       "      <td>3</td>\n",
       "      <td>4</td>\n",
       "      <td>2</td>\n",
       "      <td>0</td>\n",
       "      <td>3</td>\n",
       "      <td>3</td>\n",
       "      <td>20</td>\n",
       "    </tr>\n",
       "    <tr>\n",
       "      <th>2</th>\n",
       "      <td>26:42</td>\n",
       "      <td>6</td>\n",
       "      <td>11</td>\n",
       "      <td>0.545</td>\n",
       "      <td>4</td>\n",
       "      <td>7</td>\n",
       "      <td>0.571</td>\n",
       "      <td>2</td>\n",
       "      <td>4</td>\n",
       "      <td>0.500</td>\n",
       "      <td>...</td>\n",
       "      <td>1.0</td>\n",
       "      <td>0</td>\n",
       "      <td>4</td>\n",
       "      <td>4</td>\n",
       "      <td>6</td>\n",
       "      <td>2</td>\n",
       "      <td>1</td>\n",
       "      <td>6</td>\n",
       "      <td>1</td>\n",
       "      <td>18</td>\n",
       "    </tr>\n",
       "    <tr>\n",
       "      <th>3</th>\n",
       "      <td>24:05</td>\n",
       "      <td>7</td>\n",
       "      <td>15</td>\n",
       "      <td>0.467</td>\n",
       "      <td>4</td>\n",
       "      <td>9</td>\n",
       "      <td>0.444</td>\n",
       "      <td>3</td>\n",
       "      <td>6</td>\n",
       "      <td>0.500</td>\n",
       "      <td>...</td>\n",
       "      <td>1.0</td>\n",
       "      <td>1</td>\n",
       "      <td>2</td>\n",
       "      <td>3</td>\n",
       "      <td>6</td>\n",
       "      <td>0</td>\n",
       "      <td>0</td>\n",
       "      <td>2</td>\n",
       "      <td>1</td>\n",
       "      <td>24</td>\n",
       "    </tr>\n",
       "    <tr>\n",
       "      <th>4</th>\n",
       "      <td>34:23</td>\n",
       "      <td>8</td>\n",
       "      <td>17</td>\n",
       "      <td>0.471</td>\n",
       "      <td>4</td>\n",
       "      <td>9</td>\n",
       "      <td>0.444</td>\n",
       "      <td>4</td>\n",
       "      <td>8</td>\n",
       "      <td>0.500</td>\n",
       "      <td>...</td>\n",
       "      <td>1.0</td>\n",
       "      <td>0</td>\n",
       "      <td>7</td>\n",
       "      <td>7</td>\n",
       "      <td>9</td>\n",
       "      <td>4</td>\n",
       "      <td>1</td>\n",
       "      <td>3</td>\n",
       "      <td>2</td>\n",
       "      <td>27</td>\n",
       "    </tr>\n",
       "  </tbody>\n",
       "</table>\n",
       "<p>5 rows × 23 columns</p>\n",
       "</div>"
      ],
      "text/plain": [
       "      MP  FG  FGA    FG%  3P  3PA    3P%  2P  2PA    2P%  ...  FT%  ORB  DRB  \\\n",
       "0  25:04   4   10  0.400   3    7  0.429   1    3  0.333  ...  1.0    0    9   \n",
       "1  27:25   7   20  0.350   4   13  0.308   3    7  0.429  ...  1.0    0    3   \n",
       "2  26:42   6   11  0.545   4    7  0.571   2    4  0.500  ...  1.0    0    4   \n",
       "3  24:05   7   15  0.467   4    9  0.444   3    6  0.500  ...  1.0    1    2   \n",
       "4  34:23   8   17  0.471   4    9  0.444   4    8  0.500  ...  1.0    0    7   \n",
       "\n",
       "   TRB  AST  STL  BLK  TOV  PF  PTS  \n",
       "0    9   10    2    0    2   0   17  \n",
       "1    3    4    2    0    3   3   20  \n",
       "2    4    6    2    1    6   1   18  \n",
       "3    3    6    0    0    2   1   24  \n",
       "4    7    9    4    1    3   2   27  \n",
       "\n",
       "[5 rows x 23 columns]"
      ]
     },
     "execution_count": 31,
     "metadata": {},
     "output_type": "execute_result"
    }
   ],
   "source": [
    "# Drop unwanted columns in place\n",
    "df.drop(columns=['Rk', 'Gcar', 'Gtm', 'Date', 'Team', 'Unnamed: 5', 'Opp', 'Result', 'GS', 'GmSc', '+/-'], inplace=True)\n",
    "df.head()\n"
   ]
  },
  {
   "cell_type": "code",
   "execution_count": 33,
   "id": "9c2b83b5-858c-43d4-b933-f7ec43d0769c",
   "metadata": {},
   "outputs": [
    {
     "data": {
      "text/plain": [
       "Index(['MP', 'FG', 'FGA', 'FG%', '3P', '3PA', '3P%', '2P', '2PA', '2P%',\n",
       "       'eFG%', 'FT', 'FTA', 'FT%', 'ORB', 'DRB', 'TRB', 'AST', 'STL', 'BLK',\n",
       "       'TOV', 'PF', 'PTS'],\n",
       "      dtype='object')"
      ]
     },
     "execution_count": 33,
     "metadata": {},
     "output_type": "execute_result"
    }
   ],
   "source": [
    "df.columns"
   ]
  },
  {
   "cell_type": "code",
   "execution_count": 35,
   "id": "a3fe141d-4e01-4313-b33f-f30ccea5c392",
   "metadata": {},
   "outputs": [
    {
     "data": {
      "text/plain": [
       "MP      0\n",
       "FG      0\n",
       "FGA     0\n",
       "FG%     0\n",
       "3P      0\n",
       "3PA     0\n",
       "3P%     0\n",
       "2P      0\n",
       "2PA     0\n",
       "2P%     0\n",
       "eFG%    0\n",
       "FT      0\n",
       "FTA     0\n",
       "FT%     7\n",
       "ORB     0\n",
       "DRB     0\n",
       "TRB     0\n",
       "AST     0\n",
       "STL     0\n",
       "BLK     0\n",
       "TOV     0\n",
       "PF      0\n",
       "PTS     0\n",
       "dtype: int64"
      ]
     },
     "execution_count": 35,
     "metadata": {},
     "output_type": "execute_result"
    }
   ],
   "source": [
    "df.isna().sum()"
   ]
  },
  {
   "cell_type": "code",
   "execution_count": 37,
   "id": "80905869-8832-41ce-b9dd-e624927e08f8",
   "metadata": {},
   "outputs": [
    {
     "data": {
      "text/plain": [
       "Index(['FG', 'FGA', 'FG%', '3P', '3PA', '3P%', '2P', '2PA', '2P%', 'eFG%',\n",
       "       'FT', 'FTA', 'FT%', 'ORB', 'DRB', 'TRB', 'AST', 'STL', 'BLK', 'TOV',\n",
       "       'PF', 'PTS'],\n",
       "      dtype='object')"
      ]
     },
     "execution_count": 37,
     "metadata": {},
     "output_type": "execute_result"
    }
   ],
   "source": [
    "m=df.select_dtypes(include=['int','float'])\n",
    "m.columns"
   ]
  },
  {
   "cell_type": "code",
   "execution_count": 39,
   "id": "6459e722-6ab7-455b-913f-da0caefeeb5a",
   "metadata": {},
   "outputs": [
    {
     "data": {
      "text/plain": [
       "array([[<Axes: title={'center': 'FG'}>, <Axes: title={'center': 'FGA'}>,\n",
       "        <Axes: title={'center': 'FG%'}>, <Axes: title={'center': '3P'}>,\n",
       "        <Axes: title={'center': '3PA'}>],\n",
       "       [<Axes: title={'center': '3P%'}>, <Axes: title={'center': '2P'}>,\n",
       "        <Axes: title={'center': '2PA'}>, <Axes: title={'center': '2P%'}>,\n",
       "        <Axes: title={'center': 'eFG%'}>],\n",
       "       [<Axes: title={'center': 'FT'}>, <Axes: title={'center': 'FTA'}>,\n",
       "        <Axes: title={'center': 'FT%'}>, <Axes: title={'center': 'ORB'}>,\n",
       "        <Axes: title={'center': 'DRB'}>],\n",
       "       [<Axes: title={'center': 'TRB'}>, <Axes: title={'center': 'AST'}>,\n",
       "        <Axes: title={'center': 'STL'}>, <Axes: title={'center': 'BLK'}>,\n",
       "        <Axes: title={'center': 'TOV'}>],\n",
       "       [<Axes: title={'center': 'PF'}>, <Axes: title={'center': 'PTS'}>,\n",
       "        <Axes: >, <Axes: >, <Axes: >]], dtype=object)"
      ]
     },
     "execution_count": 39,
     "metadata": {},
     "output_type": "execute_result"
    },
    {
     "data": {
      "image/png": "[encoded data removed]",
      "text/plain": [
       "<Figure size 640x480 with 25 Axes>"
      ]
     },
     "metadata": {},
     "output_type": "display_data"
    }
   ],
   "source": [
    "m.hist(color='r')"
   ]
  },
  {
   "cell_type": "code",
   "execution_count": 41,
   "id": "6b04efe6-1769-4a4a-9cb4-edf69ca9557a",
   "metadata": {},
   "outputs": [
    {
     "data": {
      "text/plain": [
       "0     1.0\n",
       "1     1.0\n",
       "2     1.0\n",
       "3     1.0\n",
       "4     1.0\n",
       "     ... \n",
       "65    1.0\n",
       "66    1.0\n",
       "67    1.0\n",
       "68    1.0\n",
       "69    1.0\n",
       "Name: FT%, Length: 70, dtype: float64"
      ]
     },
     "execution_count": 41,
     "metadata": {},
     "output_type": "execute_result"
    }
   ],
   "source": [
    "for i in ['FT%']:\n",
    "    df[i]=df[i].fillna(df[i].median())\n",
    "df[i]    "
   ]
  },
  {
   "cell_type": "code",
   "execution_count": 45,
   "id": "ac2a986a-b248-4b54-833f-68ef5459e8ba",
   "metadata": {},
   "outputs": [
    {
     "data": {
      "text/plain": [
       "Index(['MP'], dtype='object')"
      ]
     },
     "execution_count": 45,
     "metadata": {},
     "output_type": "execute_result"
    }
   ],
   "source": [
    "n=df.select_dtypes(include=['object'])\n",
    "n.columns"
   ]
  },
  {
   "cell_type": "code",
   "execution_count": null,
   "id": "1a6099aa-8c55-47f0-9197-d1e4724140f6",
   "metadata": {},
   "outputs": [],
   "source": []
  },
  {
   "cell_type": "markdown",
   "id": "9a1558f7-dabb-4c5c-b152-e21f047f26ac",
   "metadata": {},
   "source": [
    "\n",
    "\n",
    "\n",
    "### 📊 Visualizing Statistical Distributions with Boxplots\n",
    "\n",
    "To understand the spread, central tendency, and presence of outliers in Stephen Curry's performance metrics, we use **boxplots** for various game-level features.\n",
    "\n",
    "#### 🧱 Why Boxplots?\n",
    "\n",
    "Boxplots provide a concise summary of:\n",
    "\n",
    "* **Median** (central line)\n",
    "* **Interquartile range (IQR)** (box edges)\n",
    "* **Minimum and maximum values** within 1.5×IQR\n",
    "* **Outliers**, if any, shown as individual points\n",
    "\n",
    "#### 📈 What We Visualize:\n",
    "\n",
    "We plot boxplots for the following game statistics:\n",
    "\n",
    "* Shooting metrics: `FG`, `FGA`, `FG%`, `3P`, `3PA`, `3P%`, `2P`, `2PA`, `2P%`, `eFG%`\n",
    "* Free throws: `FT`, `FTA`, `FT%`\n",
    "* Rebounds: `ORB`, `DRB`, `TRB`\n",
    "* Playmaking and defense: `AST`, `STL`, `BLK`, `TOV`, `PF`\n",
    "* Scoring: `PTS`\n",
    "\n",
    "These plots help us identify skewness, anomalies, and potential outliers for each feature—guiding preprocessing and feature engineering decisions.\n"
   ]
  },
  {
   "cell_type": "code",
   "execution_count": 69,
   "id": "9f291720-46da-4582-a436-17b897ae032b",
   "metadata": {},
   "outputs": [
    {
     "data": {
      "image/png": "[encoded data removed]",
      "text/plain": [
       "<Figure size 1500x2000 with 22 Axes>"
      ]
     },
     "metadata": {},
     "output_type": "display_data"
    }
   ],
   "source": [
    "import matplotlib.pyplot as plt\n",
    "\n",
    "# Set up the figure with enough space for 22 plots (8 rows × 3 columns = 24 slots)\n",
    "plt.figure(figsize=(15, 20))\n",
    "\n",
    "# List of columns and titles\n",
    "columns = [\n",
    "    ('FG', 'Field Goals Made (FG)'),\n",
    "    ('FGA', 'Field Goals Attempted (FGA)'),\n",
    "    ('FG%', 'Field Goal Percentage (FG%)'),\n",
    "    ('3P', '3-Point Field Goals Made (3P)'),\n",
    "    ('3PA', '3-Point Attempts (3PA)'),\n",
    "    ('3P%', '3-Point Percentage (3P%)'),\n",
    "    ('2P', '2-Point Field Goals Made (2P)'),\n",
    "    ('2PA', '2-Point Attempts (2PA)'),\n",
    "    ('2P%', '2-Point Percentage (2P%)'),\n",
    "    ('eFG%', 'Effective Field Goal % (eFG%)'),\n",
    "    ('FT', 'Free Throws Made (FT)'),\n",
    "    ('FTA', 'Free Throws Attempted (FTA)'),\n",
    "    ('FT%', 'Free Throw Percentage (FT%)'),\n",
    "    ('ORB', 'Offensive Rebounds (ORB)'),\n",
    "    ('DRB', 'Defensive Rebounds (DRB)'),\n",
    "    ('TRB', 'Total Rebounds (TRB)'),\n",
    "    ('AST', 'Assists (AST)'),\n",
    "    ('STL', 'Steals (STL)'),\n",
    "    ('BLK', 'Blocks (BLK)'),\n",
    "    ('TOV', 'Turnovers (TOV)'),\n",
    "    ('PF', 'Personal Fouls (PF)'),\n",
    "    ('PTS', 'Points Scored (PTS)')\n",
    "]\n",
    "\n",
    "# Loop through and plot\n",
    "for i, (col, title) in enumerate(columns):\n",
    "    plt.subplot(8, 3, i + 1)\n",
    "    plt.boxplot(df[col])\n",
    "    plt.title(f'Boxplot: {title}')\n",
    "\n",
    "# Adjust layout\n",
    "plt.tight_layout()\n",
    "plt.show()\n"
   ]
  },
  {
   "cell_type": "markdown",
   "id": "5dca5dda-a394-432f-9f5c-246244cdba6a",
   "metadata": {},
   "source": [
    "\n",
    "\n",
    "### 📉 Outlier Removal\n",
    "\n",
    "Outliers are data points that significantly differ from other observations and can negatively affect the performance of a machine learning model. In this project, we use the **Interquartile Range (IQR)** method to detect and remove outliers.\n",
    "\n",
    "#### 🔍 IQR Method:\n",
    "\n",
    "1. **Q1 (25th percentile)** and **Q3 (75th percentile)** are calculated for each numeric feature.\n",
    "2. **IQR** is defined as:\n",
    "\n",
    "   $$\n",
    "   \\text{IQR} = Q3 - Q1\n",
    "   $$\n",
    "3. A data point is considered an outlier if it falls outside the following range:\n",
    "\n",
    "   $$\n",
    "   [Q1 - 1.5 \\times \\text{IQR},\\ Q3 + 1.5 \\times \\text{IQR}]\n",
    "   $$\n",
    "\n",
    "#### ✅ Why Remove Outliers?\n",
    "\n",
    "* Outliers can **skew the distribution** of features.\n",
    "* They may **bias the model** during training.\n",
    "* Removing them can lead to **better generalization** and **model performance**.\n",
    "\n"
   ]
  },
  {
   "cell_type": "code",
   "execution_count": 73,
   "id": "1a179c12-bf42-4277-b6d9-5ce697602d58",
   "metadata": {},
   "outputs": [],
   "source": [
    "##'FG'"
   ]
  },
  {
   "cell_type": "code",
   "execution_count": 75,
   "id": "8364c792-ad2d-4894-b5b3-08acef734b4b",
   "metadata": {},
   "outputs": [
    {
     "name": "stdout",
     "output_type": "stream",
     "text": [
      "Q1= 6.0\n",
      "Q2= 8.0\n",
      "Q3= 10.0\n",
      "IQR= 4.0\n",
      "uplimit: 16.0\n",
      "lowerlimt: 0.0\n",
      "outlier: []\n"
     ]
    }
   ],
   "source": [
    "Q1 = np.percentile(df['FG'], 25, method='midpoint')\n",
    "Q2 = np.percentile(df['FG'], 50, method='midpoint')\n",
    "Q3 = np.percentile(df['FG'], 75, method='midpoint')\n",
    "\n",
    "print('Q1=', Q1)\n",
    "print('Q2=', Q2)\n",
    "print('Q3=', Q3)\n",
    "\n",
    "IQR = Q3 - Q1\n",
    "print('IQR=',IQR)\n",
    "\n",
    "upperlimit = Q3+1.5*IQR\n",
    "lowerlimit = Q1-1.5*IQR\n",
    "print('uplimit:',upperlimit)\n",
    "print('lowerlimt:',lowerlimit)\n",
    "\n",
    "outlier=[]\n",
    "for x in df['FG']:\n",
    "  if((x>upperlimit) or (x<lowerlimit)):\n",
    "    outlier.append(x)\n",
    "print('outlier:',outlier) "
   ]
  },
  {
   "cell_type": "code",
   "execution_count": 83,
   "id": "1bceb1f2-6a6f-4e26-a5e6-ae488659b2aa",
   "metadata": {},
   "outputs": [
    {
     "data": {
      "text/plain": [
       "Index(['FG', 'FGA', 'FG%', '3P', '3PA', '3P%', '2P', '2PA', '2P%', 'eFG%',\n",
       "       'FT', 'FTA', 'FT%', 'ORB', 'DRB', 'TRB', 'AST', 'STL', 'BLK', 'TOV',\n",
       "       'PF', 'PTS'],\n",
       "      dtype='object')"
      ]
     },
     "execution_count": 83,
     "metadata": {},
     "output_type": "execute_result"
    }
   ],
   "source": [
    "##'FGA', "
   ]
  },
  {
   "cell_type": "code",
   "execution_count": 85,
   "id": "88eb19b1-5f02-473e-a1fd-c61f1d8f0f60",
   "metadata": {},
   "outputs": [
    {
     "name": "stdout",
     "output_type": "stream",
     "text": [
      "Q1= 14.0\n",
      "Q2= 18.0\n",
      "Q3= 21.0\n",
      "IQR= 7.0\n",
      "uplimit: 31.5\n",
      "lowerlimt: 3.5\n",
      "outlier: [35]\n"
     ]
    }
   ],
   "source": [
    "Q1 = np.percentile(df['FGA'], 25, method='midpoint')\n",
    "Q2 = np.percentile(df['FGA'], 50, method='midpoint')\n",
    "Q3 = np.percentile(df['FGA'], 75, method='midpoint')\n",
    "\n",
    "print('Q1=', Q1)\n",
    "print('Q2=', Q2)\n",
    "print('Q3=', Q3)\n",
    "\n",
    "IQR = Q3 - Q1\n",
    "print('IQR=',IQR)\n",
    "\n",
    "upperlimit = Q3+1.5*IQR\n",
    "lowerlimit = Q1-1.5*IQR\n",
    "print('uplimit:',upperlimit)\n",
    "print('lowerlimt:',lowerlimit)\n",
    "\n",
    "outlier=[]\n",
    "for x in df['FGA']:\n",
    "  if((x>upperlimit) or (x<lowerlimit)):\n",
    "    outlier.append(x)\n",
    "print('outlier:',outlier) "
   ]
  },
  {
   "cell_type": "code",
   "execution_count": 87,
   "id": "8fbfdf5e-b908-42e0-b221-32913a890cad",
   "metadata": {},
   "outputs": [
    {
     "data": {
      "text/plain": [
       "Index([41], dtype='int64')"
      ]
     },
     "execution_count": 87,
     "metadata": {},
     "output_type": "execute_result"
    }
   ],
   "source": [
    "df1=df['FGA']>upperlimit\n",
    "df.loc[df1].index\n"
   ]
  },
  {
   "cell_type": "code",
   "execution_count": 89,
   "id": "a37d9e3a-de5f-4683-a846-365bce1e173c",
   "metadata": {},
   "outputs": [
    {
     "data": {
      "text/plain": [
       "Index([], dtype='int64')"
      ]
     },
     "execution_count": 89,
     "metadata": {},
     "output_type": "execute_result"
    }
   ],
   "source": [
    "df2=df['FGA']<lowerlimit\n",
    "df.loc[df2].index\n"
   ]
  },
  {
   "cell_type": "code",
   "execution_count": 91,
   "id": "9d7064fc-d335-476a-a7de-4bbcc70a8839",
   "metadata": {},
   "outputs": [
    {
     "name": "stdout",
     "output_type": "stream",
     "text": [
      "outlier: []\n"
     ]
    }
   ],
   "source": [
    "df.drop((df.loc[df1].index),inplace = True)\n",
    "#df.drop((df.loc[df2].index),inplace = True)\n",
    "df.reset_index(inplace=True)\n",
    "df.drop(['index'],axis=1,inplace = True)\n",
    "\n",
    "outlier=[]\n",
    "for x in df['FGA']:\n",
    "  if((x>upperlimit) or (x<lowerlimit)):\n",
    "    outlier.append(x)\n",
    "print('outlier:',outlier)"
   ]
  },
  {
   "cell_type": "code",
   "execution_count": 93,
   "id": "e01e6d08-eae6-44b6-9132-ade0ab915d5c",
   "metadata": {},
   "outputs": [],
   "source": [
    "#'FG%', "
   ]
  },
  {
   "cell_type": "code",
   "execution_count": 95,
   "id": "002128c0-e27e-4954-bf1e-11cf84c4bb75",
   "metadata": {},
   "outputs": [
    {
     "name": "stdout",
     "output_type": "stream",
     "text": [
      "Q1= 0.387\n",
      "Q2= 0.462\n",
      "Q3= 0.519\n",
      "IQR= 0.132\n",
      "uplimit: 0.7170000000000001\n",
      "lowerlimt: 0.189\n",
      "outlier: [0.0, 0.154, 0.733, 0.75, 0.1]\n"
     ]
    }
   ],
   "source": [
    "Q1 = np.percentile(df['FG%'], 25, method='midpoint')\n",
    "Q2 = np.percentile(df['FG%'], 50, method='midpoint')\n",
    "Q3 = np.percentile(df['FG%'], 75, method='midpoint')\n",
    "\n",
    "print('Q1=', Q1)\n",
    "print('Q2=', Q2)\n",
    "print('Q3=', Q3)\n",
    "\n",
    "IQR = Q3 - Q1\n",
    "print('IQR=',IQR)\n",
    "\n",
    "upperlimit = Q3+1.5*IQR\n",
    "lowerlimit = Q1-1.5*IQR\n",
    "print('uplimit:',upperlimit)\n",
    "print('lowerlimt:',lowerlimit)\n",
    "\n",
    "outlier=[]\n",
    "for x in df['FG%']:\n",
    "  if((x>upperlimit) or (x<lowerlimit)):\n",
    "    outlier.append(x)\n",
    "print('outlier:',outlier) "
   ]
  },
  {
   "cell_type": "code",
   "execution_count": 97,
   "id": "7d914ed9-e6c8-43d7-ab37-e30d5313a9b8",
   "metadata": {},
   "outputs": [
    {
     "data": {
      "text/plain": [
       "Index([26, 58], dtype='int64')"
      ]
     },
     "execution_count": 97,
     "metadata": {},
     "output_type": "execute_result"
    }
   ],
   "source": [
    "df1=df['FG%']>upperlimit\n",
    "df.loc[df1].index\n"
   ]
  },
  {
   "cell_type": "code",
   "execution_count": 99,
   "id": "a245d2fc-7f92-4178-bc9e-88bf07f85f15",
   "metadata": {},
   "outputs": [
    {
     "data": {
      "text/plain": [
       "Index([20, 22, 64], dtype='int64')"
      ]
     },
     "execution_count": 99,
     "metadata": {},
     "output_type": "execute_result"
    }
   ],
   "source": [
    "df2=df['FG%']<lowerlimit\n",
    "df.loc[df2].index\n"
   ]
  },
  {
   "cell_type": "code",
   "execution_count": 101,
   "id": "9aafc3be-585a-40a1-ab37-b003b74dcc11",
   "metadata": {},
   "outputs": [
    {
     "name": "stdout",
     "output_type": "stream",
     "text": [
      "outlier: []\n"
     ]
    }
   ],
   "source": [
    "df.drop((df.loc[df1].index),inplace = True)\n",
    "df.drop((df.loc[df2].index),inplace = True)\n",
    "df.reset_index(inplace=True)\n",
    "df.drop(['index'],axis=1,inplace = True)\n",
    "\n",
    "outlier=[]\n",
    "for x in df['FG%']:\n",
    "  if((x>upperlimit) or (x<lowerlimit)):\n",
    "    outlier.append(x)\n",
    "print('outlier:',outlier)"
   ]
  },
  {
   "cell_type": "code",
   "execution_count": 103,
   "id": "86dc2a5f-1fdc-483b-b9c2-601aa8584262",
   "metadata": {},
   "outputs": [],
   "source": [
    "#'3P',"
   ]
  },
  {
   "cell_type": "code",
   "execution_count": 105,
   "id": "c304ed7c-445f-41de-ac9e-e113adec4c34",
   "metadata": {},
   "outputs": [
    {
     "name": "stdout",
     "output_type": "stream",
     "text": [
      "Q1= 3.0\n",
      "Q2= 4.0\n",
      "Q3= 5.5\n",
      "IQR= 2.5\n",
      "uplimit: 9.25\n",
      "lowerlimt: -0.75\n",
      "outlier: [12, 12]\n"
     ]
    }
   ],
   "source": [
    "Q1 = np.percentile(df['3P'], 25, method='midpoint')\n",
    "Q2 = np.percentile(df['3P'], 50, method='midpoint')\n",
    "Q3 = np.percentile(df['3P'], 75, method='midpoint')\n",
    "\n",
    "print('Q1=', Q1)\n",
    "print('Q2=', Q2)\n",
    "print('Q3=', Q3)\n",
    "\n",
    "IQR = Q3 - Q1\n",
    "print('IQR=',IQR)\n",
    "\n",
    "upperlimit = Q3+1.5*IQR\n",
    "lowerlimit = Q1-1.5*IQR\n",
    "print('uplimit:',upperlimit)\n",
    "print('lowerlimt:',lowerlimit)\n",
    "\n",
    "outlier=[]\n",
    "for x in df['3P']:\n",
    "  if((x>upperlimit) or (x<lowerlimit)):\n",
    "    outlier.append(x)\n",
    "print('outlier:',outlier) "
   ]
  },
  {
   "cell_type": "code",
   "execution_count": 107,
   "id": "5487ab87-14ee-4420-92d5-99515e4f24f6",
   "metadata": {},
   "outputs": [
    {
     "data": {
      "text/plain": [
       "Index([45, 57], dtype='int64')"
      ]
     },
     "execution_count": 107,
     "metadata": {},
     "output_type": "execute_result"
    }
   ],
   "source": [
    "df1=df['3P']>upperlimit\n",
    "df.loc[df1].index\n"
   ]
  },
  {
   "cell_type": "code",
   "execution_count": 109,
   "id": "02a4e1c4-1737-4b4c-9294-882a5d5ed805",
   "metadata": {},
   "outputs": [
    {
     "data": {
      "text/plain": [
       "Index([], dtype='int64')"
      ]
     },
     "execution_count": 109,
     "metadata": {},
     "output_type": "execute_result"
    }
   ],
   "source": [
    "df2=df['3P']<lowerlimit\n",
    "df.loc[df2].index\n"
   ]
  },
  {
   "cell_type": "code",
   "execution_count": 111,
   "id": "9a095dc8-3284-414e-9c47-e98806b76e69",
   "metadata": {},
   "outputs": [
    {
     "name": "stdout",
     "output_type": "stream",
     "text": [
      "outlier: []\n"
     ]
    }
   ],
   "source": [
    "df.drop((df.loc[df1].index),inplace = True)\n",
    "#df.drop((df.loc[df2].index),inplace = True)\n",
    "df.reset_index(inplace=True)\n",
    "df.drop(['index'],axis=1,inplace = True)\n",
    "\n",
    "outlier=[]\n",
    "for x in df['3P']:\n",
    "  if((x>upperlimit) or (x<lowerlimit)):\n",
    "    outlier.append(x)\n",
    "print('outlier:',outlier)"
   ]
  },
  {
   "cell_type": "code",
   "execution_count": 113,
   "id": "51532fef-8147-4ae6-b2f7-953944f4024d",
   "metadata": {},
   "outputs": [],
   "source": [
    "#'3PA', "
   ]
  },
  {
   "cell_type": "code",
   "execution_count": 119,
   "id": "6ce04a9c-b360-4ab8-98b6-257302b3d105",
   "metadata": {},
   "outputs": [
    {
     "name": "stdout",
     "output_type": "stream",
     "text": [
      "Q1= 9.0\n",
      "Q2= 11.5\n",
      "Q3= 13.5\n",
      "IQR= 4.5\n",
      "uplimit: 20.25\n",
      "lowerlimt: 2.25\n",
      "outlier: []\n"
     ]
    }
   ],
   "source": [
    "Q1 = np.percentile(df['3PA'], 25, method='midpoint')\n",
    "Q2 = np.percentile(df['3PA'], 50, method='midpoint')\n",
    "Q3 = np.percentile(df['3PA'], 75, method='midpoint')\n",
    "\n",
    "print('Q1=', Q1)\n",
    "print('Q2=', Q2)\n",
    "print('Q3=', Q3)\n",
    "\n",
    "IQR = Q3 - Q1\n",
    "print('IQR=',IQR)\n",
    "\n",
    "upperlimit = Q3+1.5*IQR\n",
    "lowerlimit = Q1-1.5*IQR\n",
    "print('uplimit:',upperlimit)\n",
    "print('lowerlimt:',lowerlimit)\n",
    "\n",
    "outlier=[]\n",
    "for x in df['3PA']:\n",
    "  if((x>upperlimit) or (x<lowerlimit)):\n",
    "    outlier.append(x)\n",
    "print('outlier:',outlier) "
   ]
  },
  {
   "cell_type": "code",
   "execution_count": 117,
   "id": "28e02a9f-b904-4a7b-8c7e-d0df26d3e927",
   "metadata": {},
   "outputs": [],
   "source": [
    "#'3P%', "
   ]
  },
  {
   "cell_type": "code",
   "execution_count": 121,
   "id": "508c393b-2e71-4978-9419-371365788ff2",
   "metadata": {},
   "outputs": [
    {
     "name": "stdout",
     "output_type": "stream",
     "text": [
      "Q1= 0.308\n",
      "Q2= 0.38\n",
      "Q3= 0.469\n",
      "IQR= 0.16099999999999998\n",
      "uplimit: 0.7104999999999999\n",
      "lowerlimt: 0.06650000000000003\n",
      "outlier: []\n"
     ]
    }
   ],
   "source": [
    "Q1 = np.percentile(df['3P%'], 25, method='midpoint')\n",
    "Q2 = np.percentile(df['3P%'], 50, method='midpoint')\n",
    "Q3 = np.percentile(df['3P%'], 75, method='midpoint')\n",
    "\n",
    "print('Q1=', Q1)\n",
    "print('Q2=', Q2)\n",
    "print('Q3=', Q3)\n",
    "\n",
    "IQR = Q3 - Q1\n",
    "print('IQR=',IQR)\n",
    "\n",
    "upperlimit = Q3+1.5*IQR\n",
    "lowerlimit = Q1-1.5*IQR\n",
    "print('uplimit:',upperlimit)\n",
    "print('lowerlimt:',lowerlimit)\n",
    "\n",
    "outlier=[]\n",
    "for x in df['3P%']:\n",
    "  if((x>upperlimit) or (x<lowerlimit)):\n",
    "    outlier.append(x)\n",
    "print('outlier:',outlier) "
   ]
  },
  {
   "cell_type": "code",
   "execution_count": 123,
   "id": "b9717904-901e-4954-bd9b-c01432f8a1cd",
   "metadata": {},
   "outputs": [],
   "source": [
    "#'2P', "
   ]
  },
  {
   "cell_type": "code",
   "execution_count": 125,
   "id": "7d14d801-29e4-4736-864c-02e7057dc727",
   "metadata": {},
   "outputs": [
    {
     "name": "stdout",
     "output_type": "stream",
     "text": [
      "Q1= 2.0\n",
      "Q2= 3.5\n",
      "Q3= 5.0\n",
      "IQR= 3.0\n",
      "uplimit: 9.5\n",
      "lowerlimt: -2.5\n",
      "outlier: []\n"
     ]
    }
   ],
   "source": [
    "Q1 = np.percentile(df['2P'], 25, method='midpoint')\n",
    "Q2 = np.percentile(df['2P'], 50, method='midpoint')\n",
    "Q3 = np.percentile(df['2P'], 75, method='midpoint')\n",
    "\n",
    "print('Q1=', Q1)\n",
    "print('Q2=', Q2)\n",
    "print('Q3=', Q3)\n",
    "\n",
    "IQR = Q3 - Q1\n",
    "print('IQR=',IQR)\n",
    "\n",
    "upperlimit = Q3+1.5*IQR\n",
    "lowerlimit = Q1-1.5*IQR\n",
    "print('uplimit:',upperlimit)\n",
    "print('lowerlimt:',lowerlimit)\n",
    "\n",
    "outlier=[]\n",
    "for x in df['2P']:\n",
    "  if((x>upperlimit) or (x<lowerlimit)):\n",
    "    outlier.append(x)\n",
    "print('outlier:',outlier) "
   ]
  },
  {
   "cell_type": "code",
   "execution_count": 127,
   "id": "7f6dc0ef-ad63-48fb-aab2-5620a31506b4",
   "metadata": {},
   "outputs": [],
   "source": [
    "#'2PA', "
   ]
  },
  {
   "cell_type": "code",
   "execution_count": 129,
   "id": "6e26bd2d-8d38-4de1-b27c-acd456bd7508",
   "metadata": {},
   "outputs": [
    {
     "name": "stdout",
     "output_type": "stream",
     "text": [
      "Q1= 5.0\n",
      "Q2= 7.0\n",
      "Q3= 8.0\n",
      "IQR= 3.0\n",
      "uplimit: 12.5\n",
      "lowerlimt: 0.5\n",
      "outlier: [15, 13]\n"
     ]
    }
   ],
   "source": [
    "Q1 = np.percentile(df['2PA'], 25, method='midpoint')\n",
    "Q2 = np.percentile(df['2PA'], 50, method='midpoint')\n",
    "Q3 = np.percentile(df['2PA'], 75, method='midpoint')\n",
    "\n",
    "print('Q1=', Q1)\n",
    "print('Q2=', Q2)\n",
    "print('Q3=', Q3)\n",
    "\n",
    "IQR = Q3 - Q1\n",
    "print('IQR=',IQR)\n",
    "\n",
    "upperlimit = Q3+1.5*IQR\n",
    "lowerlimit = Q1-1.5*IQR\n",
    "print('uplimit:',upperlimit)\n",
    "print('lowerlimt:',lowerlimit)\n",
    "\n",
    "outlier=[]\n",
    "for x in df['2PA']:\n",
    "  if((x>upperlimit) or (x<lowerlimit)):\n",
    "    outlier.append(x)\n",
    "print('outlier:',outlier) "
   ]
  },
  {
   "cell_type": "code",
   "execution_count": 131,
   "id": "afe14946-9979-4903-a89b-bbf44624e179",
   "metadata": {},
   "outputs": [
    {
     "data": {
      "text/plain": [
       "Index([7, 37], dtype='int64')"
      ]
     },
     "execution_count": 131,
     "metadata": {},
     "output_type": "execute_result"
    }
   ],
   "source": [
    "df1=df['2PA']>upperlimit\n",
    "df.loc[df1].index\n"
   ]
  },
  {
   "cell_type": "code",
   "execution_count": 133,
   "id": "b4493d09-0589-4810-98f2-4cb1d9e1bd80",
   "metadata": {},
   "outputs": [
    {
     "data": {
      "text/plain": [
       "Index([], dtype='int64')"
      ]
     },
     "execution_count": 133,
     "metadata": {},
     "output_type": "execute_result"
    }
   ],
   "source": [
    "df2=df['2PA']<lowerlimit\n",
    "df.loc[df2].index\n"
   ]
  },
  {
   "cell_type": "code",
   "execution_count": 135,
   "id": "f3f4f6ea-1be5-4494-8a22-1e85b318809d",
   "metadata": {},
   "outputs": [
    {
     "name": "stdout",
     "output_type": "stream",
     "text": [
      "outlier: []\n"
     ]
    }
   ],
   "source": [
    "df.drop((df.loc[df1].index),inplace = True)\n",
    "#df.drop((df.loc[df2].index),inplace = True)\n",
    "df.reset_index(inplace=True)\n",
    "df.drop(['index'],axis=1,inplace = True)\n",
    "\n",
    "outlier=[]\n",
    "for x in df['2PA']:\n",
    "  if((x>upperlimit) or (x<lowerlimit)):\n",
    "    outlier.append(x)\n",
    "print('outlier:',outlier)"
   ]
  },
  {
   "cell_type": "code",
   "execution_count": 137,
   "id": "a9e7d294-ef69-4e2e-8b70-f592b6fdc5dc",
   "metadata": {},
   "outputs": [],
   "source": [
    "#'2P%', "
   ]
  },
  {
   "cell_type": "code",
   "execution_count": 139,
   "id": "4cb3f207-d155-4cc9-9205-081c5d6b61f0",
   "metadata": {},
   "outputs": [
    {
     "name": "stdout",
     "output_type": "stream",
     "text": [
      "Q1= 0.4085\n",
      "Q2= 0.528\n",
      "Q3= 0.667\n",
      "IQR= 0.25850000000000006\n",
      "uplimit: 1.05475\n",
      "lowerlimt: 0.02074999999999988\n",
      "outlier: [0.0]\n"
     ]
    }
   ],
   "source": [
    "Q1 = np.percentile(df['2P%'], 25, method='midpoint')\n",
    "Q2 = np.percentile(df['2P%'], 50, method='midpoint')\n",
    "Q3 = np.percentile(df['2P%'], 75, method='midpoint')\n",
    "\n",
    "print('Q1=', Q1)\n",
    "print('Q2=', Q2)\n",
    "print('Q3=', Q3)\n",
    "\n",
    "IQR = Q3 - Q1\n",
    "print('IQR=',IQR)\n",
    "\n",
    "upperlimit = Q3+1.5*IQR\n",
    "lowerlimit = Q1-1.5*IQR\n",
    "print('uplimit:',upperlimit)\n",
    "print('lowerlimt:',lowerlimit)\n",
    "\n",
    "outlier=[]\n",
    "for x in df['2P%']:\n",
    "  if((x>upperlimit) or (x<lowerlimit)):\n",
    "    outlier.append(x)\n",
    "print('outlier:',outlier) "
   ]
  },
  {
   "cell_type": "code",
   "execution_count": 141,
   "id": "67eb821c-5e49-493e-8bee-f9a6d518578b",
   "metadata": {},
   "outputs": [
    {
     "data": {
      "text/plain": [
       "Index([], dtype='int64')"
      ]
     },
     "execution_count": 141,
     "metadata": {},
     "output_type": "execute_result"
    }
   ],
   "source": [
    "df1=df['2P%']>upperlimit\n",
    "df.loc[df1].index\n"
   ]
  },
  {
   "cell_type": "code",
   "execution_count": 143,
   "id": "7243be56-3fdc-49f9-91bc-e216ff7d4088",
   "metadata": {},
   "outputs": [
    {
     "data": {
      "text/plain": [
       "Index([12], dtype='int64')"
      ]
     },
     "execution_count": 143,
     "metadata": {},
     "output_type": "execute_result"
    }
   ],
   "source": [
    "df2=df['2P%']<lowerlimit\n",
    "df.loc[df2].index\n"
   ]
  },
  {
   "cell_type": "code",
   "execution_count": 145,
   "id": "e3d66014-2baf-4d98-9fdb-d8f5edcdaa96",
   "metadata": {},
   "outputs": [
    {
     "name": "stdout",
     "output_type": "stream",
     "text": [
      "outlier: []\n"
     ]
    }
   ],
   "source": [
    "#df.drop((df.loc[df1].index),inplace = True)\n",
    "df.drop((df.loc[df2].index),inplace = True)\n",
    "df.reset_index(inplace=True)\n",
    "df.drop(['index'],axis=1,inplace = True)\n",
    "\n",
    "outlier=[]\n",
    "for x in df['2P%']:\n",
    "  if((x>upperlimit) or (x<lowerlimit)):\n",
    "    outlier.append(x)\n",
    "print('outlier:',outlier)"
   ]
  },
  {
   "cell_type": "code",
   "execution_count": 147,
   "id": "e12e8110-35d0-40e2-901a-63042090bcf8",
   "metadata": {},
   "outputs": [],
   "source": [
    "#'eFG%',"
   ]
  },
  {
   "cell_type": "code",
   "execution_count": 149,
   "id": "962ba90c-54b0-4728-b945-aef8ce3447a1",
   "metadata": {},
   "outputs": [
    {
     "name": "stdout",
     "output_type": "stream",
     "text": [
      "Q1= 0.5\n",
      "Q2= 0.571\n",
      "Q3= 0.645\n",
      "IQR= 0.14500000000000002\n",
      "uplimit: 0.8625\n",
      "lowerlimt: 0.2825\n",
      "outlier: [0.9]\n"
     ]
    }
   ],
   "source": [
    "Q1 = np.percentile(df['eFG%'], 25, method='midpoint')\n",
    "Q2 = np.percentile(df['eFG%'], 50, method='midpoint')\n",
    "Q3 = np.percentile(df['eFG%'], 75, method='midpoint')\n",
    "\n",
    "print('Q1=', Q1)\n",
    "print('Q2=', Q2)\n",
    "print('Q3=', Q3)\n",
    "\n",
    "IQR = Q3 - Q1\n",
    "print('IQR=',IQR)\n",
    "\n",
    "upperlimit = Q3+1.5*IQR\n",
    "lowerlimit = Q1-1.5*IQR\n",
    "print('uplimit:',upperlimit)\n",
    "print('lowerlimt:',lowerlimit)\n",
    "\n",
    "outlier=[]\n",
    "for x in df['eFG%']:\n",
    "  if((x>upperlimit) or (x<lowerlimit)):\n",
    "    outlier.append(x)\n",
    "print('outlier:',outlier) "
   ]
  },
  {
   "cell_type": "code",
   "execution_count": 151,
   "id": "4832fe33-58ff-4849-a980-89519c55d5ad",
   "metadata": {},
   "outputs": [
    {
     "data": {
      "text/plain": [
       "Index([9], dtype='int64')"
      ]
     },
     "execution_count": 151,
     "metadata": {},
     "output_type": "execute_result"
    }
   ],
   "source": [
    "df1=df['eFG%']>upperlimit\n",
    "df.loc[df1].index\n"
   ]
  },
  {
   "cell_type": "code",
   "execution_count": 153,
   "id": "f2d57b72-bb63-4637-8d14-f9a947032dde",
   "metadata": {},
   "outputs": [
    {
     "data": {
      "text/plain": [
       "Index([], dtype='int64')"
      ]
     },
     "execution_count": 153,
     "metadata": {},
     "output_type": "execute_result"
    }
   ],
   "source": [
    "df2=df['eFG%']<lowerlimit\n",
    "df.loc[df2].index\n"
   ]
  },
  {
   "cell_type": "code",
   "execution_count": 155,
   "id": "9871b8c1-f02f-4815-b1e3-abb14c88514e",
   "metadata": {},
   "outputs": [
    {
     "name": "stdout",
     "output_type": "stream",
     "text": [
      "outlier: []\n"
     ]
    }
   ],
   "source": [
    "df.drop((df.loc[df1].index),inplace = True)\n",
    "#df.drop((df.loc[df2].index),inplace = True)\n",
    "df.reset_index(inplace=True)\n",
    "df.drop(['index'],axis=1,inplace = True)\n",
    "\n",
    "outlier=[]\n",
    "for x in df['eFG%']:\n",
    "  if((x>upperlimit) or (x<lowerlimit)):\n",
    "    outlier.append(x)\n",
    "print('outlier:',outlier)"
   ]
  },
  {
   "cell_type": "code",
   "execution_count": 157,
   "id": "18febc71-64bc-4e83-86c7-62fb8ee5156b",
   "metadata": {},
   "outputs": [],
   "source": [
    "#'FT', "
   ]
  },
  {
   "cell_type": "code",
   "execution_count": 159,
   "id": "023ad699-bebe-449b-b8f3-b1c2866a59fd",
   "metadata": {},
   "outputs": [
    {
     "name": "stdout",
     "output_type": "stream",
     "text": [
      "Q1= 2.0\n",
      "Q2= 3.0\n",
      "Q3= 6.0\n",
      "IQR= 4.0\n",
      "uplimit: 12.0\n",
      "lowerlimt: -4.0\n",
      "outlier: [13]\n"
     ]
    }
   ],
   "source": [
    "Q1 = np.percentile(df['FT'], 25, method='midpoint')\n",
    "Q2 = np.percentile(df['FT'], 50, method='midpoint')\n",
    "Q3 = np.percentile(df['FT'], 75, method='midpoint')\n",
    "\n",
    "print('Q1=', Q1)\n",
    "print('Q2=', Q2)\n",
    "print('Q3=', Q3)\n",
    "\n",
    "IQR = Q3 - Q1\n",
    "print('IQR=',IQR)\n",
    "\n",
    "upperlimit = Q3+1.5*IQR\n",
    "lowerlimit = Q1-1.5*IQR\n",
    "print('uplimit:',upperlimit)\n",
    "print('lowerlimt:',lowerlimit)\n",
    "\n",
    "outlier=[]\n",
    "for x in df['FT']:\n",
    "  if((x>upperlimit) or (x<lowerlimit)):\n",
    "    outlier.append(x)\n",
    "print('outlier:',outlier) "
   ]
  },
  {
   "cell_type": "code",
   "execution_count": 161,
   "id": "b0f09652-48fb-45cc-9dd9-b4b437f1da19",
   "metadata": {},
   "outputs": [
    {
     "data": {
      "text/plain": [
       "Index([52], dtype='int64')"
      ]
     },
     "execution_count": 161,
     "metadata": {},
     "output_type": "execute_result"
    }
   ],
   "source": [
    "df1=df['FT']>upperlimit\n",
    "df.loc[df1].index\n"
   ]
  },
  {
   "cell_type": "code",
   "execution_count": 163,
   "id": "0584092f-3c25-4b2d-afae-4896ddb40437",
   "metadata": {},
   "outputs": [
    {
     "data": {
      "text/plain": [
       "Index([52], dtype='int64')"
      ]
     },
     "execution_count": 163,
     "metadata": {},
     "output_type": "execute_result"
    }
   ],
   "source": [
    "df1=df['FT']>upperlimit\n",
    "df.loc[df1].index\n"
   ]
  },
  {
   "cell_type": "code",
   "execution_count": 165,
   "id": "0e1e5515-a0da-4b84-a630-540bff4ac761",
   "metadata": {},
   "outputs": [
    {
     "data": {
      "text/plain": [
       "Index([], dtype='int64')"
      ]
     },
     "execution_count": 165,
     "metadata": {},
     "output_type": "execute_result"
    }
   ],
   "source": [
    "df2=df['FT']<lowerlimit\n",
    "df.loc[df2].index\n"
   ]
  },
  {
   "cell_type": "code",
   "execution_count": 167,
   "id": "53f32df7-ac92-4d0a-b5ad-080504c490de",
   "metadata": {},
   "outputs": [
    {
     "name": "stdout",
     "output_type": "stream",
     "text": [
      "outlier: []\n"
     ]
    }
   ],
   "source": [
    "df.drop((df.loc[df1].index),inplace = True)\n",
    "#df.drop((df.loc[df2].index),inplace = True)\n",
    "df.reset_index(inplace=True)\n",
    "df.drop(['index'],axis=1,inplace = True)\n",
    "\n",
    "outlier=[]\n",
    "for x in df['FT']:\n",
    "  if((x>upperlimit) or (x<lowerlimit)):\n",
    "    outlier.append(x)\n",
    "print('outlier:',outlier)"
   ]
  },
  {
   "cell_type": "code",
   "execution_count": 169,
   "id": "d6345f14-3d74-4704-8ebe-20b6f7f4ccd5",
   "metadata": {},
   "outputs": [],
   "source": [
    "#'FTA', "
   ]
  },
  {
   "cell_type": "code",
   "execution_count": 171,
   "id": "3b06efc4-1149-4411-b058-8ede6079510b",
   "metadata": {},
   "outputs": [
    {
     "name": "stdout",
     "output_type": "stream",
     "text": [
      "Q1= 2.0\n",
      "Q2= 4.0\n",
      "Q3= 6.0\n",
      "IQR= 4.0\n",
      "uplimit: 12.0\n",
      "lowerlimt: -4.0\n",
      "outlier: []\n"
     ]
    }
   ],
   "source": [
    "Q1 = np.percentile(df['FTA'], 25, method='midpoint')\n",
    "Q2 = np.percentile(df['FTA'], 50, method='midpoint')\n",
    "Q3 = np.percentile(df['FTA'], 75, method='midpoint')\n",
    "\n",
    "print('Q1=', Q1)\n",
    "print('Q2=', Q2)\n",
    "print('Q3=', Q3)\n",
    "\n",
    "IQR = Q3 - Q1\n",
    "print('IQR=',IQR)\n",
    "\n",
    "upperlimit = Q3+1.5*IQR\n",
    "lowerlimit = Q1-1.5*IQR\n",
    "print('uplimit:',upperlimit)\n",
    "print('lowerlimt:',lowerlimit)\n",
    "\n",
    "outlier=[]\n",
    "for x in df['FTA']:\n",
    "  if((x>upperlimit) or (x<lowerlimit)):\n",
    "    outlier.append(x)\n",
    "print('outlier:',outlier) "
   ]
  },
  {
   "cell_type": "code",
   "execution_count": 173,
   "id": "f6c4b5ab-72a9-4e20-b665-6e4f67c5375d",
   "metadata": {},
   "outputs": [],
   "source": [
    "#'FT%', "
   ]
  },
  {
   "cell_type": "code",
   "execution_count": 175,
   "id": "55f4c8ec-6ea4-4593-84f3-3acfed48e303",
   "metadata": {},
   "outputs": [
    {
     "name": "stdout",
     "output_type": "stream",
     "text": [
      "Q1= 1.0\n",
      "Q2= 1.0\n",
      "Q3= 1.0\n",
      "IQR= 0.0\n",
      "uplimit: 1.0\n",
      "lowerlimt: 1.0\n",
      "outlier: [0.75, 0.8, 0.818, 0.0, 0.8, 0.75, 0.75, 0.889, 0.75, 0.889, 0.75, 0.889, 0.8]\n"
     ]
    }
   ],
   "source": [
    "Q1 = np.percentile(df['FT%'], 25, method='midpoint')\n",
    "Q2 = np.percentile(df['FT%'], 50, method='midpoint')\n",
    "Q3 = np.percentile(df['FT%'], 75, method='midpoint')\n",
    "\n",
    "print('Q1=', Q1)\n",
    "print('Q2=', Q2)\n",
    "print('Q3=', Q3)\n",
    "\n",
    "IQR = Q3 - Q1\n",
    "print('IQR=',IQR)\n",
    "\n",
    "upperlimit = Q3+1.5*IQR\n",
    "lowerlimit = Q1-1.5*IQR\n",
    "print('uplimit:',upperlimit)\n",
    "print('lowerlimt:',lowerlimit)\n",
    "\n",
    "outlier=[]\n",
    "for x in df['FT%']:\n",
    "  if((x>upperlimit) or (x<lowerlimit)):\n",
    "    outlier.append(x)\n",
    "print('outlier:',outlier) "
   ]
  },
  {
   "cell_type": "code",
   "execution_count": 177,
   "id": "426886e6-85bc-45a9-80e9-336d6a416032",
   "metadata": {},
   "outputs": [
    {
     "data": {
      "text/plain": [
       "Index([], dtype='int64')"
      ]
     },
     "execution_count": 177,
     "metadata": {},
     "output_type": "execute_result"
    }
   ],
   "source": [
    "df1=df['FT%']>upperlimit\n",
    "df.loc[df1].index\n"
   ]
  },
  {
   "cell_type": "code",
   "execution_count": 179,
   "id": "88efcc5f-00f3-4fb0-b31a-67e61337e1fd",
   "metadata": {},
   "outputs": [
    {
     "data": {
      "text/plain": [
       "Index([6, 11, 14, 15, 17, 30, 34, 35, 36, 37, 42, 48, 50], dtype='int64')"
      ]
     },
     "execution_count": 179,
     "metadata": {},
     "output_type": "execute_result"
    }
   ],
   "source": [
    "df2=df['FT%']<lowerlimit\n",
    "df.loc[df2].index\n"
   ]
  },
  {
   "cell_type": "code",
   "execution_count": 183,
   "id": "abd2f32a-dd7d-4463-862d-057e84a9839c",
   "metadata": {},
   "outputs": [
    {
     "name": "stdout",
     "output_type": "stream",
     "text": [
      "outlier: []\n"
     ]
    }
   ],
   "source": [
    "#df.drop((df.loc[df1].index),inplace = True)\n",
    "df.drop((df.loc[df2].index),inplace = True)\n",
    "df.reset_index(inplace=True)\n",
    "df.drop(['index'],axis=1,inplace = True)\n",
    "\n",
    "outlier=[]\n",
    "for x in df['FT%']:\n",
    "  if((x>upperlimit) or (x<lowerlimit)):\n",
    "    outlier.append(x)\n",
    "print('outlier:',outlier)"
   ]
  },
  {
   "cell_type": "code",
   "execution_count": 185,
   "id": "d609e0a6-401e-416d-b836-bf2fcda1ce7f",
   "metadata": {},
   "outputs": [],
   "source": [
    "#'ORB', "
   ]
  },
  {
   "cell_type": "code",
   "execution_count": 187,
   "id": "3a953632-af11-4453-b448-b46e542831e4",
   "metadata": {},
   "outputs": [
    {
     "name": "stdout",
     "output_type": "stream",
     "text": [
      "Q1= 0.0\n",
      "Q2= 1.0\n",
      "Q3= 1.0\n",
      "IQR= 1.0\n",
      "uplimit: 2.5\n",
      "lowerlimt: -1.5\n",
      "outlier: []\n"
     ]
    }
   ],
   "source": [
    "Q1 = np.percentile(df['ORB'], 25, method='midpoint')\n",
    "Q2 = np.percentile(df['ORB'], 50, method='midpoint')\n",
    "Q3 = np.percentile(df['ORB'], 75, method='midpoint')\n",
    "\n",
    "print('Q1=', Q1)\n",
    "print('Q2=', Q2)\n",
    "print('Q3=', Q3)\n",
    "\n",
    "IQR = Q3 - Q1\n",
    "print('IQR=',IQR)\n",
    "\n",
    "upperlimit = Q3+1.5*IQR\n",
    "lowerlimit = Q1-1.5*IQR\n",
    "print('uplimit:',upperlimit)\n",
    "print('lowerlimt:',lowerlimit)\n",
    "\n",
    "outlier=[]\n",
    "for x in df['ORB']:\n",
    "  if((x>upperlimit) or (x<lowerlimit)):\n",
    "    outlier.append(x)\n",
    "print('outlier:',outlier) "
   ]
  },
  {
   "cell_type": "code",
   "execution_count": 189,
   "id": "3a210487-1e0a-46f4-a1c2-b94f2c46cc97",
   "metadata": {},
   "outputs": [],
   "source": [
    "#'DRB', "
   ]
  },
  {
   "cell_type": "code",
   "execution_count": 191,
   "id": "6cbabc09-9a36-4ffc-a6f6-1d67f63a2e84",
   "metadata": {},
   "outputs": [
    {
     "name": "stdout",
     "output_type": "stream",
     "text": [
      "Q1= 2.0\n",
      "Q2= 4.0\n",
      "Q3= 6.0\n",
      "IQR= 4.0\n",
      "uplimit: 12.0\n",
      "lowerlimt: -4.0\n",
      "outlier: []\n"
     ]
    }
   ],
   "source": [
    "Q1 = np.percentile(df['DRB'], 25, method='midpoint')\n",
    "Q2 = np.percentile(df['DRB'], 50, method='midpoint')\n",
    "Q3 = np.percentile(df['DRB'], 75, method='midpoint')\n",
    "\n",
    "print('Q1=', Q1)\n",
    "print('Q2=', Q2)\n",
    "print('Q3=', Q3)\n",
    "\n",
    "IQR = Q3 - Q1\n",
    "print('IQR=',IQR)\n",
    "\n",
    "upperlimit = Q3+1.5*IQR\n",
    "lowerlimit = Q1-1.5*IQR\n",
    "print('uplimit:',upperlimit)\n",
    "print('lowerlimt:',lowerlimit)\n",
    "\n",
    "outlier=[]\n",
    "for x in df['DRB']:\n",
    "  if((x>upperlimit) or (x<lowerlimit)):\n",
    "    outlier.append(x)\n",
    "print('outlier:',outlier) "
   ]
  },
  {
   "cell_type": "code",
   "execution_count": 193,
   "id": "bdde80ab-9b6a-492a-a3e5-c8c424d3ef6e",
   "metadata": {},
   "outputs": [],
   "source": [
    "#'TRB', "
   ]
  },
  {
   "cell_type": "code",
   "execution_count": 195,
   "id": "50a4d09c-eb47-4ef6-bea1-e14b05a51f9e",
   "metadata": {},
   "outputs": [
    {
     "name": "stdout",
     "output_type": "stream",
     "text": [
      "Q1= 2.5\n",
      "Q2= 4.0\n",
      "Q3= 7.0\n",
      "IQR= 4.5\n",
      "uplimit: 13.75\n",
      "lowerlimt: -4.25\n",
      "outlier: []\n"
     ]
    }
   ],
   "source": [
    "Q1 = np.percentile(df['TRB'], 25, method='midpoint')\n",
    "Q2 = np.percentile(df['TRB'], 50, method='midpoint')\n",
    "Q3 = np.percentile(df['TRB'], 75, method='midpoint')\n",
    "\n",
    "print('Q1=', Q1)\n",
    "print('Q2=', Q2)\n",
    "print('Q3=', Q3)\n",
    "\n",
    "IQR = Q3 - Q1\n",
    "print('IQR=',IQR)\n",
    "\n",
    "upperlimit = Q3+1.5*IQR\n",
    "lowerlimit = Q1-1.5*IQR\n",
    "print('uplimit:',upperlimit)\n",
    "print('lowerlimt:',lowerlimit)\n",
    "\n",
    "outlier=[]\n",
    "for x in df['TRB']:\n",
    "  if((x>upperlimit) or (x<lowerlimit)):\n",
    "    outlier.append(x)\n",
    "print('outlier:',outlier) "
   ]
  },
  {
   "cell_type": "code",
   "execution_count": 197,
   "id": "da1b5192-4a79-407e-8f3e-0a8cff43b4b7",
   "metadata": {},
   "outputs": [],
   "source": [
    "#'AST', "
   ]
  },
  {
   "cell_type": "code",
   "execution_count": 199,
   "id": "bbf549c8-64a2-4889-886e-e132a27f7a80",
   "metadata": {},
   "outputs": [
    {
     "name": "stdout",
     "output_type": "stream",
     "text": [
      "Q1= 4.0\n",
      "Q2= 6.0\n",
      "Q3= 7.0\n",
      "IQR= 3.0\n",
      "uplimit: 11.5\n",
      "lowerlimt: -0.5\n",
      "outlier: [12, 13]\n"
     ]
    }
   ],
   "source": [
    "Q1 = np.percentile(df['AST'], 25, method='midpoint')\n",
    "Q2 = np.percentile(df['AST'], 50, method='midpoint')\n",
    "Q3 = np.percentile(df['AST'], 75, method='midpoint')\n",
    "\n",
    "print('Q1=', Q1)\n",
    "print('Q2=', Q2)\n",
    "print('Q3=', Q3)\n",
    "\n",
    "IQR = Q3 - Q1\n",
    "print('IQR=',IQR)\n",
    "\n",
    "upperlimit = Q3+1.5*IQR\n",
    "lowerlimit = Q1-1.5*IQR\n",
    "print('uplimit:',upperlimit)\n",
    "print('lowerlimt:',lowerlimit)\n",
    "\n",
    "outlier=[]\n",
    "for x in df['AST']:\n",
    "  if((x>upperlimit) or (x<lowerlimit)):\n",
    "    outlier.append(x)\n",
    "print('outlier:',outlier) "
   ]
  },
  {
   "cell_type": "code",
   "execution_count": 201,
   "id": "4f663e9f-ded3-44d9-beb3-54ebc3a6c68c",
   "metadata": {},
   "outputs": [
    {
     "data": {
      "text/plain": [
       "Index([23, 31], dtype='int64')"
      ]
     },
     "execution_count": 201,
     "metadata": {},
     "output_type": "execute_result"
    }
   ],
   "source": [
    "df1=df['AST']>upperlimit\n",
    "df.loc[df1].index\n"
   ]
  },
  {
   "cell_type": "code",
   "execution_count": 203,
   "id": "d689e9c5-dbce-4eed-8ff1-3e745e273670",
   "metadata": {},
   "outputs": [
    {
     "data": {
      "text/plain": [
       "Index([], dtype='int64')"
      ]
     },
     "execution_count": 203,
     "metadata": {},
     "output_type": "execute_result"
    }
   ],
   "source": [
    "df2=df['AST']<lowerlimit\n",
    "df.loc[df2].index\n"
   ]
  },
  {
   "cell_type": "code",
   "execution_count": 205,
   "id": "bfba086f-6f61-467c-8e18-22f234195135",
   "metadata": {},
   "outputs": [
    {
     "name": "stdout",
     "output_type": "stream",
     "text": [
      "outlier: []\n"
     ]
    }
   ],
   "source": [
    "df.drop((df.loc[df1].index),inplace = True)\n",
    "#df.drop((df.loc[df2].index),inplace = True)\n",
    "df.reset_index(inplace=True)\n",
    "df.drop(['index'],axis=1,inplace = True)\n",
    "\n",
    "outlier=[]\n",
    "for x in df['AST']:\n",
    "  if((x>upperlimit) or (x<lowerlimit)):\n",
    "    outlier.append(x)\n",
    "print('outlier:',outlier)"
   ]
  },
  {
   "cell_type": "code",
   "execution_count": 207,
   "id": "3a2fece2-dc4f-42d8-b9af-3e5c93b60a04",
   "metadata": {},
   "outputs": [],
   "source": [
    "#'STL', "
   ]
  },
  {
   "cell_type": "code",
   "execution_count": 209,
   "id": "b6bc8eb2-ed3b-4a55-9b49-e4ca287918e4",
   "metadata": {},
   "outputs": [
    {
     "name": "stdout",
     "output_type": "stream",
     "text": [
      "Q1= 1.0\n",
      "Q2= 1.0\n",
      "Q3= 2.0\n",
      "IQR= 1.0\n",
      "uplimit: 3.5\n",
      "lowerlimt: -0.5\n",
      "outlier: [4, 4]\n"
     ]
    }
   ],
   "source": [
    "Q1 = np.percentile(df['STL'], 25, method='midpoint')\n",
    "Q2 = np.percentile(df['STL'], 50, method='midpoint')\n",
    "Q3 = np.percentile(df['STL'], 75, method='midpoint')\n",
    "\n",
    "print('Q1=', Q1)\n",
    "print('Q2=', Q2)\n",
    "print('Q3=', Q3)\n",
    "\n",
    "IQR = Q3 - Q1\n",
    "print('IQR=',IQR)\n",
    "\n",
    "upperlimit = Q3+1.5*IQR\n",
    "lowerlimit = Q1-1.5*IQR\n",
    "print('uplimit:',upperlimit)\n",
    "print('lowerlimt:',lowerlimit)\n",
    "\n",
    "outlier=[]\n",
    "for x in df['STL']:\n",
    "  if((x>upperlimit) or (x<lowerlimit)):\n",
    "    outlier.append(x)\n",
    "print('outlier:',outlier) "
   ]
  },
  {
   "cell_type": "code",
   "execution_count": 211,
   "id": "1b95823a-d097-4bd2-b13d-e3779232b8b7",
   "metadata": {},
   "outputs": [
    {
     "data": {
      "text/plain": [
       "Index([4, 6], dtype='int64')"
      ]
     },
     "execution_count": 211,
     "metadata": {},
     "output_type": "execute_result"
    }
   ],
   "source": [
    "df1=df['STL']>upperlimit\n",
    "df.loc[df1].index\n"
   ]
  },
  {
   "cell_type": "code",
   "execution_count": 213,
   "id": "e2c91e8e-1f41-49c1-91fb-7d418d11717c",
   "metadata": {},
   "outputs": [
    {
     "data": {
      "text/plain": [
       "Index([], dtype='int64')"
      ]
     },
     "execution_count": 213,
     "metadata": {},
     "output_type": "execute_result"
    }
   ],
   "source": [
    "df2=df['STL']<lowerlimit\n",
    "df.loc[df2].index\n"
   ]
  },
  {
   "cell_type": "code",
   "execution_count": 215,
   "id": "e912b209-04b3-4b0d-b726-b0b4496e2415",
   "metadata": {},
   "outputs": [
    {
     "name": "stdout",
     "output_type": "stream",
     "text": [
      "outlier: []\n"
     ]
    }
   ],
   "source": [
    "df.drop((df.loc[df1].index),inplace = True)\n",
    "#df.drop((df.loc[df2].index),inplace = True)\n",
    "df.reset_index(inplace=True)\n",
    "df.drop(['index'],axis=1,inplace = True)\n",
    "\n",
    "outlier=[]\n",
    "for x in df['STL']:\n",
    "  if((x>upperlimit) or (x<lowerlimit)):\n",
    "    outlier.append(x)\n",
    "print('outlier:',outlier)"
   ]
  },
  {
   "cell_type": "code",
   "execution_count": 217,
   "id": "99213229-f348-407d-9144-7a99baeab831",
   "metadata": {},
   "outputs": [],
   "source": [
    "#'BLK', "
   ]
  },
  {
   "cell_type": "code",
   "execution_count": 219,
   "id": "1016ef37-c0be-4146-a67c-39c00fe72143",
   "metadata": {},
   "outputs": [
    {
     "name": "stdout",
     "output_type": "stream",
     "text": [
      "Q1= 0.0\n",
      "Q2= 0.0\n",
      "Q3= 1.0\n",
      "IQR= 1.0\n",
      "uplimit: 2.5\n",
      "lowerlimt: -1.5\n",
      "outlier: []\n"
     ]
    }
   ],
   "source": [
    "Q1 = np.percentile(df['BLK'], 25, method='midpoint')\n",
    "Q2 = np.percentile(df['BLK'], 50, method='midpoint')\n",
    "Q3 = np.percentile(df['BLK'], 75, method='midpoint')\n",
    "\n",
    "print('Q1=', Q1)\n",
    "print('Q2=', Q2)\n",
    "print('Q3=', Q3)\n",
    "\n",
    "IQR = Q3 - Q1\n",
    "print('IQR=',IQR)\n",
    "\n",
    "upperlimit = Q3+1.5*IQR\n",
    "lowerlimit = Q1-1.5*IQR\n",
    "print('uplimit:',upperlimit)\n",
    "print('lowerlimt:',lowerlimit)\n",
    "\n",
    "outlier=[]\n",
    "for x in df['BLK']:\n",
    "  if((x>upperlimit) or (x<lowerlimit)):\n",
    "    outlier.append(x)\n",
    "print('outlier:',outlier) "
   ]
  },
  {
   "cell_type": "code",
   "execution_count": 221,
   "id": "9428a254-19bb-429e-af83-2d802419aab3",
   "metadata": {},
   "outputs": [],
   "source": [
    "#'TOV',"
   ]
  },
  {
   "cell_type": "code",
   "execution_count": 223,
   "id": "87e8c464-4f37-4dd6-b266-60cf2e0a09c8",
   "metadata": {},
   "outputs": [
    {
     "name": "stdout",
     "output_type": "stream",
     "text": [
      "Q1= 2.0\n",
      "Q2= 3.0\n",
      "Q3= 4.0\n",
      "IQR= 2.0\n",
      "uplimit: 7.0\n",
      "lowerlimt: -1.0\n",
      "outlier: [8]\n"
     ]
    }
   ],
   "source": [
    "Q1 = np.percentile(df['TOV'], 25, method='midpoint')\n",
    "Q2 = np.percentile(df['TOV'], 50, method='midpoint')\n",
    "Q3 = np.percentile(df['TOV'], 75, method='midpoint')\n",
    "\n",
    "print('Q1=', Q1)\n",
    "print('Q2=', Q2)\n",
    "print('Q3=', Q3)\n",
    "\n",
    "IQR = Q3 - Q1\n",
    "print('IQR=',IQR)\n",
    "\n",
    "upperlimit = Q3+1.5*IQR\n",
    "lowerlimit = Q1-1.5*IQR\n",
    "print('uplimit:',upperlimit)\n",
    "print('lowerlimt:',lowerlimit)\n",
    "\n",
    "outlier=[]\n",
    "for x in df['TOV']:\n",
    "  if((x>upperlimit) or (x<lowerlimit)):\n",
    "    outlier.append(x)\n",
    "print('outlier:',outlier) "
   ]
  },
  {
   "cell_type": "code",
   "execution_count": 225,
   "id": "310605d2-256d-48d4-8c67-633f3caf40b7",
   "metadata": {},
   "outputs": [
    {
     "data": {
      "text/plain": [
       "Index([39], dtype='int64')"
      ]
     },
     "execution_count": 225,
     "metadata": {},
     "output_type": "execute_result"
    }
   ],
   "source": [
    "df1=df['TOV']>upperlimit\n",
    "df.loc[df1].index\n"
   ]
  },
  {
   "cell_type": "code",
   "execution_count": 227,
   "id": "43b76b63-9acf-4d78-b555-2bbe1c685dc6",
   "metadata": {},
   "outputs": [
    {
     "data": {
      "text/plain": [
       "Index([], dtype='int64')"
      ]
     },
     "execution_count": 227,
     "metadata": {},
     "output_type": "execute_result"
    }
   ],
   "source": [
    "df2=df['TOV']<lowerlimit\n",
    "df.loc[df2].index\n"
   ]
  },
  {
   "cell_type": "code",
   "execution_count": 229,
   "id": "3e711b01-f3f1-4d00-a5d1-65e007fe6044",
   "metadata": {},
   "outputs": [
    {
     "name": "stdout",
     "output_type": "stream",
     "text": [
      "outlier: []\n"
     ]
    }
   ],
   "source": [
    "df.drop((df.loc[df1].index),inplace = True)\n",
    "#df.drop((df.loc[df2].index),inplace = True)\n",
    "df.reset_index(inplace=True)\n",
    "df.drop(['index'],axis=1,inplace = True)\n",
    "\n",
    "outlier=[]\n",
    "for x in df['TOV']:\n",
    "  if((x>upperlimit) or (x<lowerlimit)):\n",
    "    outlier.append(x)\n",
    "print('outlier:',outlier)"
   ]
  },
  {
   "cell_type": "code",
   "execution_count": 231,
   "id": "96196052-2eb9-420f-8597-0eeb15a19a68",
   "metadata": {},
   "outputs": [],
   "source": [
    "#'PF', "
   ]
  },
  {
   "cell_type": "code",
   "execution_count": 233,
   "id": "74d2e7b2-38e3-4ab6-89a4-50de18cabf07",
   "metadata": {},
   "outputs": [
    {
     "name": "stdout",
     "output_type": "stream",
     "text": [
      "Q1= 0.0\n",
      "Q2= 1.0\n",
      "Q3= 2.0\n",
      "IQR= 2.0\n",
      "uplimit: 5.0\n",
      "lowerlimt: -3.0\n",
      "outlier: []\n"
     ]
    }
   ],
   "source": [
    "Q1 = np.percentile(df['PF'], 25, method='midpoint')\n",
    "Q2 = np.percentile(df['PF'], 50, method='midpoint')\n",
    "Q3 = np.percentile(df['PF'], 75, method='midpoint')\n",
    "\n",
    "print('Q1=', Q1)\n",
    "print('Q2=', Q2)\n",
    "print('Q3=', Q3)\n",
    "\n",
    "IQR = Q3 - Q1\n",
    "print('IQR=',IQR)\n",
    "\n",
    "upperlimit = Q3+1.5*IQR\n",
    "lowerlimit = Q1-1.5*IQR\n",
    "print('uplimit:',upperlimit)\n",
    "print('lowerlimt:',lowerlimit)\n",
    "\n",
    "outlier=[]\n",
    "for x in df['PF']:\n",
    "  if((x>upperlimit) or (x<lowerlimit)):\n",
    "    outlier.append(x)\n",
    "print('outlier:',outlier) "
   ]
  },
  {
   "cell_type": "code",
   "execution_count": null,
   "id": "ad3ce5da-2ab9-4501-bd02-72e7ddbcbb55",
   "metadata": {},
   "outputs": [],
   "source": [
    "#'PTS'"
   ]
  },
  {
   "cell_type": "code",
   "execution_count": 235,
   "id": "76dcd6ea-7bbf-4c2f-9ee2-ab138c6de882",
   "metadata": {},
   "outputs": [
    {
     "name": "stdout",
     "output_type": "stream",
     "text": [
      "Q1= 17.5\n",
      "Q2= 23.0\n",
      "Q3= 26.0\n",
      "IQR= 8.5\n",
      "uplimit: 38.75\n",
      "lowerlimt: 4.75\n",
      "outlier: [40]\n"
     ]
    }
   ],
   "source": [
    "Q1 = np.percentile(df['PTS'], 25, method='midpoint')\n",
    "Q2 = np.percentile(df['PTS'], 50, method='midpoint')\n",
    "Q3 = np.percentile(df['PTS'], 75, method='midpoint')\n",
    "\n",
    "print('Q1=', Q1)\n",
    "print('Q2=', Q2)\n",
    "print('Q3=', Q3)\n",
    "\n",
    "IQR = Q3 - Q1\n",
    "print('IQR=',IQR)\n",
    "\n",
    "upperlimit = Q3+1.5*IQR\n",
    "lowerlimit = Q1-1.5*IQR\n",
    "print('uplimit:',upperlimit)\n",
    "print('lowerlimt:',lowerlimit)\n",
    "\n",
    "outlier=[]\n",
    "for x in df['PTS']:\n",
    "  if((x>upperlimit) or (x<lowerlimit)):\n",
    "    outlier.append(x)\n",
    "print('outlier:',outlier) "
   ]
  },
  {
   "cell_type": "code",
   "execution_count": 237,
   "id": "6ae266b3-d932-447a-bdfe-411b07923158",
   "metadata": {},
   "outputs": [
    {
     "data": {
      "text/plain": [
       "Index([29], dtype='int64')"
      ]
     },
     "execution_count": 237,
     "metadata": {},
     "output_type": "execute_result"
    }
   ],
   "source": [
    "df1=df['PTS']>upperlimit\n",
    "df.loc[df1].index\n"
   ]
  },
  {
   "cell_type": "code",
   "execution_count": 239,
   "id": "8c5031e8-08ac-47a3-b28f-94ce932e9042",
   "metadata": {},
   "outputs": [
    {
     "data": {
      "text/plain": [
       "Index([], dtype='int64')"
      ]
     },
     "execution_count": 239,
     "metadata": {},
     "output_type": "execute_result"
    }
   ],
   "source": [
    "df2=df['PTS']<lowerlimit\n",
    "df.loc[df2].index\n"
   ]
  },
  {
   "cell_type": "code",
   "execution_count": 241,
   "id": "d81c7613-bfb9-4d1c-b7be-d561599eeaa2",
   "metadata": {},
   "outputs": [
    {
     "name": "stdout",
     "output_type": "stream",
     "text": [
      "outlier: []\n"
     ]
    }
   ],
   "source": [
    "df.drop((df.loc[df1].index),inplace = True)\n",
    "#df.drop((df.loc[df2].index),inplace = True)\n",
    "df.reset_index(inplace=True)\n",
    "df.drop(['index'],axis=1,inplace = True)\n",
    "\n",
    "outlier=[]\n",
    "for x in df['PTS']:\n",
    "  if((x>upperlimit) or (x<lowerlimit)):\n",
    "    outlier.append(x)\n",
    "print('outlier:',outlier)"
   ]
  },
  {
   "cell_type": "code",
   "execution_count": null,
   "id": "84abab3f-b072-4515-8f87-634415a2e2ae",
   "metadata": {},
   "outputs": [],
   "source": []
  },
  {
   "cell_type": "markdown",
   "id": "770febc6-744a-4c36-8b43-544d22f782dd",
   "metadata": {},
   "source": [
    "## 📊 Data Visualization\n",
    "\n",
    "In this section, we visualize Stephen Curry’s 2024–25 game-by-game performance to uncover trends, correlations, and situational patterns.\n",
    "\n",
    "### 🏀 1. Distribution of Points Scored\n",
    "\n",
    "We plot a histogram with a KDE (Kernel Density Estimate) to observe the overall scoring distribution. This helps understand how often Curry scores within specific point ranges and highlights any skewness or multi-modality in his performance.\n",
    "\n",
    "### 📈 2. Correlation Heatmap\n",
    "\n",
    "A correlation matrix reveals relationships between key numerical features—like Field Goal Attempts (FGA), 3-Point Attempts (3PA), Minutes Played (MP), and Points Scored (PTS). This aids in selecting impactful features for predictive modeling.\n",
    "\n",
    "### 🎯 3. FGA vs PTS\n",
    "\n",
    "This scatter plot shows how Curry’s total field goal attempts influence his point totals. A positive trend here validates that more shooting generally leads to higher scoring games.\n",
    "\n",
    "### 🎯 4. 3PA vs PTS\n",
    "\n",
    "Here, we examine Curry’s 3-point attempts against his total points, highlighting the role of long-range shooting in his scoring output—a known strength of his game.\n",
    "\n",
    "### 🕒 5. Minutes Played vs PTS\n",
    "\n",
    "This plot visualizes whether increased playing time translates to more points, which may reflect his role, game context, or coaching strategy.\n",
    "\n",
    "### 🥧 6. Shot-Type Contribution (Pie Chart)\n",
    "\n",
    "This pie chart shows the breakdown of Curry's total points scored during the 2024–25 season based on the type of shot:\n",
    "\n",
    "- 🏀 **3-Point FG**\n",
    "- 🏀 **2-Point FG**\n",
    "- 🏀 **Free Throws**\n",
    "\n",
    "It visually highlights Curry’s signature reliance on 3-pointers while also reflecting his efficiency in other scoring methods.\n"
   ]
  },
  {
   "cell_type": "code",
   "execution_count": 244,
   "id": "ebc9f496-ff18-4e0e-9bab-ab7e197c809a",
   "metadata": {},
   "outputs": [
    {
     "data": {
      "image/png": "[encoded data removed]",
      "text/plain": [
       "<Figure size 1000x500 with 1 Axes>"
      ]
     },
     "metadata": {},
     "output_type": "display_data"
    }
   ],
   "source": [
    "plt.figure(figsize=(10, 5))\n",
    "sns.histplot(df['PTS'], bins=15, kde=True, color='skyblue')\n",
    "plt.title('Distribution of Points Scored by Stephen Curry (2024–25)')\n",
    "plt.xlabel('Points')\n",
    "plt.ylabel('Frequency')\n",
    "plt.grid(True)\n",
    "plt.show()\n"
   ]
  },
  {
   "cell_type": "code",
   "execution_count": 256,
   "id": "20d99a81-4b1f-4411-bebe-06abbe7f2f3b",
   "metadata": {},
   "outputs": [
    {
     "data": {
      "image/png": "[encoded data removed]",
      "text/plain": [
       "<Figure size 1200x800 with 2 Axes>"
      ]
     },
     "metadata": {},
     "output_type": "display_data"
    }
   ],
   "source": [
    "# Convert 'MP' (e.g., '25:04') to float minutes\n",
    "df['MP_float'] = df['MP'].apply(lambda x: int(x.split(':')[0]) + int(x.split(':')[1]) / 60 if isinstance(x, str) and ':' in x else None)\n",
    "\n",
    "# List of numeric columns to include in correlation matrix\n",
    "numerical_cols = ['FG', 'FGA', 'FG%', '3P', '3PA', '3P%', 'FT', 'FTA', 'FT%', 'AST', 'MP_float', 'PTS']\n",
    "\n",
    "# Compute correlation matrix\n",
    "corr_matrix = df[numerical_cols].corr()\n",
    "\n",
    "# Plot the heatmap\n",
    "plt.figure(figsize=(12, 8))\n",
    "sns.heatmap(corr_matrix, annot=True, cmap='coolwarm', fmt=\".2f\")\n",
    "plt.title(\"Correlation Matrix: Curry's Game Stats\")\n",
    "plt.show()\n"
   ]
  },
  {
   "cell_type": "code",
   "execution_count": 258,
   "id": "3b888ced-6da9-4a8a-9294-0718510cb66c",
   "metadata": {},
   "outputs": [
    {
     "data": {
      "image/png": "[encoded data removed]",
      "text/plain": [
       "<Figure size 600x400 with 1 Axes>"
      ]
     },
     "metadata": {},
     "output_type": "display_data"
    }
   ],
   "source": [
    "plt.figure(figsize=(6, 4))\n",
    "sns.scatterplot(data=df, x='FGA', y='PTS', color='orange')\n",
    "plt.title('Field Goal Attempts vs Points')\n",
    "plt.xlabel('FGA')\n",
    "plt.ylabel('PTS')\n",
    "plt.grid(True)\n",
    "plt.show()\n"
   ]
  },
  {
   "cell_type": "code",
   "execution_count": 260,
   "id": "ba8454f0-323e-41a0-8806-9d99d3ceb3dd",
   "metadata": {},
   "outputs": [
    {
     "data": {
      "image/png": "[encoded data removed]",
      "text/plain": [
       "<Figure size 600x400 with 1 Axes>"
      ]
     },
     "metadata": {},
     "output_type": "display_data"
    }
   ],
   "source": [
    "plt.figure(figsize=(6, 4))\n",
    "sns.scatterplot(data=df, x='3PA', y='PTS', color='green')\n",
    "plt.title('3-Point Attempts vs Points')\n",
    "plt.xlabel('3PA')\n",
    "plt.ylabel('PTS')\n",
    "plt.grid(True)\n",
    "plt.show()\n"
   ]
  },
  {
   "cell_type": "code",
   "execution_count": 288,
   "id": "fc66148d-362b-45ac-ae1c-34d89369cbf5",
   "metadata": {},
   "outputs": [
    {
     "data": {
      "image/png": "[encoded data removed]",
      "text/plain": [
       "<Figure size 600x600 with 1 Axes>"
      ]
     },
     "metadata": {},
     "output_type": "display_data"
    }
   ],
   "source": [
    "plt.figure(figsize=(6,6))\n",
    "sns.scatterplot(data=df, x='MP', y='PTS', color='purple')\n",
    "plt.title('Minutes Played vs Points')\n",
    "plt.xlabel('Minutes Played')\n",
    "plt.ylabel('PTS')\n",
    "plt.grid(True)\n",
    "plt.show()\n"
   ]
  },
  {
   "cell_type": "code",
   "execution_count": 285,
   "id": "5c6b809e-f3ae-4bec-863b-9ba07364b9ef",
   "metadata": {},
   "outputs": [
    {
     "data": {
      "image/png": "[encoded data removed]",
      "text/plain": [
       "<Figure size 800x800 with 1 Axes>"
      ]
     },
     "metadata": {},
     "output_type": "display_data"
    }
   ],
   "source": [
    "import matplotlib.pyplot as plt\n",
    "\n",
    "# Total points from each shot type\n",
    "total_fg_pts = df['FG'].sum() * 2 - df['3P'].sum()  # 2P field goals\n",
    "total_3p_pts = df['3P'].sum() * 3\n",
    "total_ft_pts = df['FT'].sum()\n",
    "\n",
    "# Pie chart data\n",
    "labels = ['2-Point FG', '3-Point FG', 'Free Throws']\n",
    "sizes = [total_fg_pts, total_3p_pts, total_ft_pts]\n",
    "colors = ['#66b3ff', '#ff9999', '#99ff99']\n",
    "\n",
    "plt.figure(figsize=(8, 8))\n",
    "plt.pie(sizes, labels=labels, colors=colors, autopct='%1.1f%%', startangle=140)\n",
    "plt.title(\"Stephen Curry's Points Distribution (2024–25 Season)\")\n",
    "plt.axis('equal')  # Equal aspect ratio ensures pie is a circle\n",
    "plt.show()\n"
   ]
  },
  {
   "cell_type": "code",
   "execution_count": null,
   "id": "e1a5f19b-81f8-40c5-b895-e2552fee0663",
   "metadata": {},
   "outputs": [],
   "source": []
  },
  {
   "cell_type": "markdown",
   "id": "0a8d5b1c-bd9c-4e17-869b-5a3e21410b1c",
   "metadata": {},
   "source": [
    "## 🧠 Model Building\n",
    "\n",
    "We frame this as a **regression problem** where:\n",
    "- **Input features (X)**: `MIN`, `FGA`, `3PA`, `FTA`, etc.\n",
    "- **Target (y)**: `PTS` (Points scored)\n",
    "\n",
    "We split the data into training and testing sets, and then applied models like:\n",
    "- Linear Regression (simple and interpretable)\n",
    "- Random Forest Regressor (for capturing nonlinear relationships)\n",
    "\n",
    "## 📊 Model Evaluation\n",
    "\n",
    "To evaluate model performance, we used metrics like:\n",
    "- **Mean Absolute Error (MAE)**\n",
    "- **Root Mean Squared Error (RMSE)**\n",
    "- **R² Score**"
   ]
  },
  {
   "cell_type": "code",
   "execution_count": 296,
   "id": "070eb0cf-0464-4489-a4d2-4db0c1055089",
   "metadata": {},
   "outputs": [],
   "source": [
    "# Linear Regression & Random Forest:\n",
    "\n",
    "from sklearn.model_selection import train_test_split\n",
    "from sklearn.preprocessing import StandardScaler\n",
    "from sklearn.linear_model import LinearRegression\n",
    "from sklearn.ensemble import RandomForestClassifier\n",
    "from sklearn.metrics import classification_report, confusion_matrix, accuracy_score, roc_auc_score, RocCurveDisplay"
   ]
  },
  {
   "cell_type": "code",
   "execution_count": 302,
   "id": "c9c5ba64-dab7-41fa-92d7-f48dea8fe06d",
   "metadata": {},
   "outputs": [],
   "source": [
    "# Feature set\n",
    "X = df[[\n",
    "    'MP_float', 'FGA', 'FG%', '3PA', '3P%', 'FTA', 'FT%', 'AST', 'TOV'\n",
    "]]\n",
    "\n",
    "\n",
    "# Target\n",
    "y = df['PTS']\n",
    "\n",
    "X_train, X_test, y_train, y_test = train_test_split(X, y, test_size=0.2, random_state=42)\n",
    "\n"
   ]
  },
  {
   "cell_type": "code",
   "execution_count": 304,
   "id": "d2e7e5df-3042-4e55-8e05-fcff945566bc",
   "metadata": {},
   "outputs": [],
   "source": [
    "# Random Forest\n",
    "rf_model = RandomForestClassifier(n_estimators=100, random_state=42)\n",
    "rf_model.fit(X_train, y_train)\n",
    "y_pred_rf = rf_model.predict(X_test)"
   ]
  },
  {
   "cell_type": "code",
   "execution_count": 350,
   "id": "48bb925c-a3db-49e7-a713-dbb186c3f12f",
   "metadata": {},
   "outputs": [
    {
     "name": "stdout",
     "output_type": "stream",
     "text": [
      "Random Forest MSE: 15.647925000000004\n",
      "Random Forest R²: 0.7098878331402085\n"
     ]
    }
   ],
   "source": [
    "from sklearn.ensemble import RandomForestRegressor\n",
    "from sklearn.metrics import mean_squared_error, r2_score\n",
    "\n",
    "# Initialize RandomForestRegressor\n",
    "rf_model = RandomForestRegressor(n_estimators=100, random_state=42)\n",
    "\n",
    "# Fit the model\n",
    "rf_model.fit(X_train, y_train)\n",
    "\n",
    "# Predict the results\n",
    "y_pred_rf = rf_model.predict(X_test)\n",
    "\n",
    "# Calculate MSE and R²\n",
    "mse = mean_squared_error(y_test, y_pred_rf)\n",
    "r2 = r2_score(y_test, y_pred_rf)\n",
    "\n",
    "print(f\"Random Forest MSE: {mse}\")\n",
    "print(f\"Random Forest R²: {r2}\")\n"
   ]
  },
  {
   "cell_type": "code",
   "execution_count": 308,
   "id": "2dbd75b2-5d04-494a-9df8-50faa14e56be",
   "metadata": {},
   "outputs": [
    {
     "data": {
      "image/png": "[encoded data removed]",
      "text/plain": [
       "<Figure size 1000x600 with 1 Axes>"
      ]
     },
     "metadata": {},
     "output_type": "display_data"
    }
   ],
   "source": [
    "# Plot feature importances\n",
    "importances = rf_model.feature_importances_\n",
    "features = X.columns\n",
    "\n",
    "# Create a DataFrame for better visualization\n",
    "feature_importance_df = pd.DataFrame({\n",
    "    'Feature': features,\n",
    "    'Importance': importances\n",
    "})\n",
    "feature_importance_df = feature_importance_df.sort_values(by='Importance', ascending=False)\n",
    "\n",
    "# Plot\n",
    "plt.figure(figsize=(10, 6))\n",
    "plt.barh(feature_importance_df['Feature'], feature_importance_df['Importance'])\n",
    "plt.xlabel('Importance')\n",
    "plt.title('Feature Importance in Random Forest Model')\n",
    "plt.show()\n"
   ]
  },
  {
   "cell_type": "code",
   "execution_count": 310,
   "id": "d104a4f7-f647-4c97-a934-ad972a75a64d",
   "metadata": {},
   "outputs": [
    {
     "data": {
      "image/png": "[encoded data removed]",
      "text/plain": [
       "<Figure size 800x600 with 1 Axes>"
      ]
     },
     "metadata": {},
     "output_type": "display_data"
    }
   ],
   "source": [
    "# Confusion Matrix\n",
    "from sklearn.metrics import confusion_matrix\n",
    "import seaborn as sns\n",
    "\n",
    "cm = confusion_matrix(y_test, y_pred_rf)\n",
    "\n",
    "# Plotting the heatmap\n",
    "plt.figure(figsize=(8, 6))\n",
    "sns.heatmap(cm, annot=True, fmt='d', cmap='Blues', cbar=False, \n",
    "            xticklabels=['Predicted Negative', 'Predicted Positive'], \n",
    "            yticklabels=['Actual Negative', 'Actual Positive'])\n",
    "plt.title('Confusion Matrix Heatmap')\n",
    "plt.xlabel('Predicted')\n",
    "plt.ylabel('Actual')\n",
    "plt.show()"
   ]
  },
  {
   "cell_type": "code",
   "execution_count": 326,
   "id": "ce8d4597-0ce4-4228-a5de-21368d097eb8",
   "metadata": {},
   "outputs": [],
   "source": [
    "# linear Regression\n",
    "X_train, X_test, y_train, y_test = train_test_split(X, y, test_size=0.2, random_state=42)\n",
    "scaler = StandardScaler()\n",
    "X_train_scaled = scaler.fit_transform(X_train)\n",
    "X_test_scaled = scaler.transform(X_test)\n",
    "\n",
    "lr_model = LinearRegression()\n",
    "lr_model.fit(X_train_scaled, y_train)\n",
    "y_pred_lr = lr_model.predict(X_test_scaled)"
   ]
  },
  {
   "cell_type": "code",
   "execution_count": 334,
   "id": "65fe8a6f-57a8-4108-a79c-7ca84a94c9b7",
   "metadata": {},
   "outputs": [
    {
     "name": "stdout",
     "output_type": "stream",
     "text": [
      "Linear Regression Results\n",
      "Mean Squared Error (MSE): 0.64\n",
      "Root Mean Squared Error (RMSE): 0.80\n",
      "R-squared (R²): 0.99\n"
     ]
    }
   ],
   "source": [
    "from sklearn.metrics import mean_squared_error, r2_score\n",
    "# Evaluation for Linear Regression\n",
    "print(\"Linear Regression Results\")\n",
    "\n",
    "# Calculate MSE, RMSE, and R-squared\n",
    "mse = mean_squared_error(y_test, y_pred_lr)\n",
    "rmse = np.sqrt(mse)\n",
    "r2 = r2_score(y_test, y_pred_lr)\n",
    "\n",
    "print(f\"Mean Squared Error (MSE): {mse:.2f}\")\n",
    "print(f\"Root Mean Squared Error (RMSE): {rmse:.2f}\")\n",
    "print(f\"R-squared (R²): {r2:.2f}\")\n"
   ]
  },
  {
   "cell_type": "code",
   "execution_count": 336,
   "id": "5dbd2a50-d0b7-46a4-980c-5fe8ee428ee9",
   "metadata": {},
   "outputs": [
    {
     "data": {
      "image/png": "[encoded data removed]",
      "text/plain": [
       "<Figure size 800x600 with 1 Axes>"
      ]
     },
     "metadata": {},
     "output_type": "display_data"
    }
   ],
   "source": [
    "import matplotlib.pyplot as plt\n",
    "\n",
    "# Plot Actual vs Predicted\n",
    "plt.figure(figsize=(8, 6))\n",
    "plt.scatter(y_test, y_pred_lr, color='blue')\n",
    "plt.plot([min(y_test), max(y_test)], [min(y_test), max(y_test)], color='red', linestyle='--')\n",
    "plt.xlabel('Actual Values')\n",
    "plt.ylabel('Predicted Values')\n",
    "plt.title('Actual vs Predicted (Linear Regression)')\n",
    "plt.show()\n"
   ]
  },
  {
   "cell_type": "code",
   "execution_count": 338,
   "id": "31e8df1f-47b4-4b19-878a-6922313bba24",
   "metadata": {},
   "outputs": [
    {
     "data": {
      "image/png": "[encoded data removed]",
      "text/plain": [
       "<Figure size 800x600 with 1 Axes>"
      ]
     },
     "metadata": {},
     "output_type": "display_data"
    }
   ],
   "source": [
    "# Plot Residuals\n",
    "residuals = y_test - y_pred_lr\n",
    "plt.figure(figsize=(8, 6))\n",
    "plt.scatter(y_pred_lr, residuals, color='blue')\n",
    "plt.hlines(y=0, xmin=min(y_pred_lr), xmax=max(y_pred_lr), colors='red', linewidth=2)\n",
    "plt.xlabel('Predicted Values')\n",
    "plt.ylabel('Residuals')\n",
    "plt.title('Residual Plot (Linear Regression)')\n",
    "plt.show()\n"
   ]
  },
  {
   "cell_type": "code",
   "execution_count": 340,
   "id": "f700a071-30ca-44a4-9abd-cdfd32f2279c",
   "metadata": {},
   "outputs": [
    {
     "data": {
      "image/png": "[encoded data removed]",
      "text/plain": [
       "<Figure size 800x600 with 1 Axes>"
      ]
     },
     "metadata": {},
     "output_type": "display_data"
    }
   ],
   "source": [
    "from sklearn.model_selection import learning_curve\n",
    "import numpy as np\n",
    "\n",
    "train_sizes, train_scores, test_scores = learning_curve(\n",
    "    estimator=LinearRegression(), X=X_train, y=y_train, cv=5, scoring='neg_mean_squared_error', \n",
    "    train_sizes=np.linspace(0.1, 1.0, 10)\n",
    ")\n",
    "\n",
    "# Plot Learning Curve\n",
    "plt.figure(figsize=(8, 6))\n",
    "plt.plot(train_sizes, -train_scores.mean(axis=1), label='Training Error', color='blue')\n",
    "plt.plot(train_sizes, -test_scores.mean(axis=1), label='Cross-Validation Error', color='red')\n",
    "plt.xlabel('Training Set Size')\n",
    "plt.ylabel('Mean Squared Error')\n",
    "plt.title('Learning Curve (Linear Regression)')\n",
    "plt.legend()\n",
    "plt.show()\n"
   ]
  },
  {
   "cell_type": "markdown",
   "id": "95d15067-cb0d-4651-a6b2-0a9cdc6703a3",
   "metadata": {},
   "source": [
    "\n",
    "## 🧑‍💻 **Model Performance Comparison**\n",
    "\n",
    "### 1. **Random Forest Regressor Results**\n",
    "\n",
    "* **Mean Squared Error (MSE)**: 15.65\n",
    "* **R-squared (R²)**: 0.71\n",
    "\n",
    "The **Random Forest Regressor** provides a good balance between capturing complex patterns in the data while providing reasonable accuracy, as seen with an R² of **0.71**, indicating that 71% of the variance in the target variable (PTS) is explained by the model.\n",
    "\n",
    "### 2. **Linear Regression Results**\n",
    "\n",
    "* **Mean Squared Error (MSE)**: 0.64\n",
    "* **Root Mean Squared Error (RMSE)**: 0.80\n",
    "* **R-squared (R²)**: 0.99\n",
    "\n",
    "The **Linear Regression** model performs exceptionally well with a very low MSE of **0.64** and an impressive R² of **0.99**, meaning that **99%** of the variance in the points scored (PTS) can be explained by the model. This indicates that Linear Regression is highly accurate for this specific dataset.\n",
    "\n",
    "### **Conclusion**:\n",
    "\n",
    "* **Linear Regression** appears to be the more accurate model for predicting points scored (PTS) with a higher R² score and lower MSE, suggesting that a simple linear approach fits the data very well.\n",
    "* **Random Forest**, on the other hand, captures complex relationships but does not perform as well as Linear Regression on this particular dataset, showing a slightly lower R² and higher MSE.\n",
    "\n"
   ]
  },
  {
   "cell_type": "code",
   "execution_count": 353,
   "id": "0401ccad-f093-4375-8930-e427450574f4",
   "metadata": {},
   "outputs": [
    {
     "data": {
      "image/png": "[encoded data removed]",
      "text/plain": [
       "<Figure size 1200x800 with 4 Axes>"
      ]
     },
     "metadata": {},
     "output_type": "display_data"
    }
   ],
   "source": [
    "import matplotlib.pyplot as plt\n",
    "import seaborn as sns\n",
    "\n",
    "# Create a figure with subplots\n",
    "plt.figure(figsize=(12, 8))\n",
    "\n",
    "# 1. Bar plot for MSE and R² comparison\n",
    "model_names = ['Random Forest', 'Linear Regression']\n",
    "mse_values = [15.65, 0.64]\n",
    "r2_values = [0.71, 0.99]\n",
    "\n",
    "# Subplot 1: Bar plot for MSE\n",
    "plt.subplot(2, 2, 1)\n",
    "sns.barplot(x=model_names, y=mse_values, palette='Blues_d')\n",
    "plt.title('MSE Comparison')\n",
    "\n",
    "# Subplot 2: Bar plot for R²\n",
    "plt.subplot(2, 2, 2)\n",
    "sns.barplot(x=model_names, y=r2_values, palette='Greens_d')\n",
    "plt.title('R² Comparison')\n",
    "\n",
    "# 2. Actual vs Predicted for Random Forest\n",
    "plt.subplot(2, 2, 3)\n",
    "plt.scatter(y_test, y_pred_rf, color='blue', alpha=0.6, label='Random Forest')\n",
    "plt.plot([y_test.min(), y_test.max()], [y_test.min(), y_test.max()], 'r--', lw=2)\n",
    "plt.title('Random Forest: Actual vs Predicted')\n",
    "plt.xlabel('Actual')\n",
    "plt.ylabel('Predicted')\n",
    "\n",
    "# 3. Actual vs Predicted for Linear Regression\n",
    "plt.subplot(2, 2, 4)\n",
    "plt.scatter(y_test, y_pred_lr, color='green', alpha=0.6, label='Linear Regression')\n",
    "plt.plot([y_test.min(), y_test.max()], [y_test.min(), y_test.max()], 'r--', lw=2)\n",
    "plt.title('Linear Regression: Actual vs Predicted')\n",
    "plt.xlabel('Actual')\n",
    "plt.ylabel('Predicted')\n",
    "\n",
    "plt.tight_layout()\n",
    "plt.show()\n"
   ]
  },
  {
   "cell_type": "code",
   "execution_count": null,
   "id": "2f32a311-093b-4e8c-bea9-3f786de2525f",
   "metadata": {},
   "outputs": [],
   "source": []
  }
 ],
 "metadata": {
  "kernelspec": {
   "display_name": "Python [conda env:base] *",
   "language": "python",
   "name": "conda-base-py"
  },
  "language_info": {
   "codemirror_mode": {
    "name": "ipython",
    "version": 3
   },
   "file_extension": ".py",
   "mimetype": "text/x-python",
   "name": "python",
   "nbconvert_exporter": "python",
   "pygments_lexer": "ipython3",
   "version": "3.12.7"
  }
 },
 "nbformat": 4,
 "nbformat_minor": 5
}
